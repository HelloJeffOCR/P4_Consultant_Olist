{
 "cells": [
  {
   "cell_type": "code",
   "execution_count": 1238,
   "metadata": {
    "scrolled": true
   },
   "outputs": [
    {
     "name": "stdout",
     "output_type": "stream",
     "text": [
      "[Errno 2] No such file or directory: 'Desktop/Formation_Ingenieur_Machine_Learning/P4_voelker_jean-florent'\n",
      "/Users/jfv/Desktop/Formation_Ingenieur_Machine_Learning/P4_voelker_jean-florent\n"
     ]
    }
   ],
   "source": [
    "cd Desktop/Formation_Ingenieur_Machine_Learning/P4_voelker_jean-florent"
   ]
  },
  {
   "cell_type": "code",
   "execution_count": 1239,
   "metadata": {},
   "outputs": [],
   "source": [
    "import pandas as pd\n",
    "import matplotlib.pyplot as plt\n",
    "import json\n",
    "import numpy as np\n",
    "import scipy.stats as st\n",
    "from sklearn import decomposition\n",
    "from sklearn import preprocessing\n",
    "from sklearn.preprocessing import OneHotEncoder\n",
    "import seaborn as sns\n",
    "from sklearn.cluster import KMeans\n",
    "from scipy.cluster.hierarchy import linkage, fcluster\n",
    "from datetime import datetime\n",
    "\n",
    "\n",
    "pd.set_option(\"display.max_columns\", 100)\n",
    "pd.set_option(\"display.max_rows\", 1000)"
   ]
  },
  {
   "cell_type": "markdown",
   "metadata": {},
   "source": [
    "Chargement des fonctions d'exploration des données"
   ]
  },
  {
   "cell_type": "code",
   "execution_count": 1240,
   "metadata": {},
   "outputs": [],
   "source": [
    "from matplotlib.collections import LineCollection\n",
    "from scipy.cluster.hierarchy import dendrogram\n",
    "\n",
    "\n",
    "def display_circles(pcs, n_comp, pca, axis_ranks, labels=None, label_rotation=0, lims=None):\n",
    "    for d1, d2 in axis_ranks:  # On affiche les 3 premiers plans factoriels, donc les 6 premières composantes\n",
    "        if d2 < n_comp:\n",
    "\n",
    "            # initialisation de la figure\n",
    "            fig, ax = plt.subplots(figsize=(7, 6))\n",
    "\n",
    "            # détermination des limites du graphique\n",
    "            if lims is not None:\n",
    "                xmin, xmax, ymin, ymax = lims\n",
    "            elif pcs.shape[1] < 30:\n",
    "                xmin, xmax, ymin, ymax = -1, 1, -1, 1\n",
    "            else:\n",
    "                xmin, xmax, ymin, ymax = min(pcs[d1, :]), max(\n",
    "                    pcs[d1, :]), min(pcs[d2, :]), max(pcs[d2, :])\n",
    "\n",
    "            # affichage des flèches\n",
    "            # s'il y a plus de 30 flèches, on n'affiche pas le triangle à leur extrémité\n",
    "            if pcs.shape[1] < 30:\n",
    "                plt.quiver(np.zeros(pcs.shape[1]), np.zeros(pcs.shape[1]),\n",
    "                           pcs[d1, :], pcs[d2, :],\n",
    "                           angles='xy', scale_units='xy', scale=1, color=\"grey\")\n",
    "                # (voir la doc : https://matplotlib.org/api/_as_gen/matplotlib.pyplot.quiver.html)\n",
    "            else:\n",
    "                lines = [[[0, 0], [x, y]] for x, y in pcs[[d1, d2]].T]\n",
    "                ax.add_collection(LineCollection(\n",
    "                    lines, axes=ax, alpha=.1, color='black'))\n",
    "\n",
    "            # affichage des noms des variables\n",
    "            if labels is not None:\n",
    "                for i, (x, y) in enumerate(pcs[[d1, d2]].T):\n",
    "                    print(i)\n",
    "                    if x >= xmin and x <= xmax and y >= ymin and y <= ymax:\n",
    "                        plt.text(x, y, labels[i], fontsize='14', ha='center',\n",
    "                                 va='center', rotation=label_rotation, color=\"blue\", alpha=0.5)\n",
    "\n",
    "            # affichage du cercle\n",
    "            circle = plt.Circle((0, 0), 1, facecolor='none', edgecolor='b')\n",
    "            plt.gca().add_artist(circle)\n",
    "\n",
    "            # définition des limites du graphique\n",
    "            plt.xlim(xmin, xmax)\n",
    "            plt.ylim(ymin, ymax)\n",
    "\n",
    "            # affichage des lignes horizontales et verticales\n",
    "            plt.plot([-1, 1], [0, 0], color='grey', ls='--')\n",
    "            plt.plot([0, 0], [-1, 1], color='grey', ls='--')\n",
    "\n",
    "            # nom des axes, avec le pourcentage d'inertie expliqué\n",
    "            plt.xlabel('F{} ({}%)'.format(\n",
    "                d1+1, round(100*pca.explained_variance_ratio_[d1], 1)))\n",
    "            plt.ylabel('F{} ({}%)'.format(\n",
    "                d2+1, round(100*pca.explained_variance_ratio_[d2], 1)))\n",
    "\n",
    "            plt.title(\"Cercle des corrélations (F{} et F{})\".format(d1+1, d2+1))\n",
    "            plt.show(block=False)\n",
    "\n",
    "\n",
    "def display_factorial_planes(X_projected, n_comp, pca, axis_ranks, labels=None, alpha=1, illustrative_var=None, legend=None):\n",
    "    for d1, d2 in axis_ranks:\n",
    "        if d2 < n_comp:\n",
    "\n",
    "            # initialisation de la figure\n",
    "            fig = plt.figure(figsize=(7, 6))\n",
    "\n",
    "            # affichage des points\n",
    "            if illustrative_var is None:\n",
    "                plt.scatter(X_projected[:, d1],\n",
    "                            X_projected[:, d2], alpha=alpha)\n",
    "            else:\n",
    "                illustrative_var = np.array(illustrative_var)\n",
    "                plt.scatter(X_projected[:, d1], X_projected[:, d2],\n",
    "                            c=illustrative_var, alpha=alpha, cmap=\"viridis\")\n",
    "                if legend is not None:\n",
    "                    plt.colorbar(label=legend)\n",
    "\n",
    "            # affichage des labels des points\n",
    "            if labels is not None:\n",
    "                for i, (x, y) in enumerate(X_projected[:, [d1, d2]]):\n",
    "                    plt.text(x, y, labels[i], fontsize='14',\n",
    "                             ha='center', va='center')\n",
    "\n",
    "            # détermination des limites du graphique\n",
    "            boundary = np.max(np.abs(X_projected[:, [d1, d2]])) * 1.1\n",
    "            plt.xlim([-boundary, boundary])\n",
    "            plt.ylim([-boundary, boundary])\n",
    "\n",
    "            # affichage des lignes horizontales et verticales\n",
    "            plt.plot([-100, 100], [0, 0], color='grey', ls='--')\n",
    "            plt.plot([0, 0], [-100, 100], color='grey', ls='--')\n",
    "\n",
    "            # nom des axes, avec le pourcentage d'inertie expliqué\n",
    "            plt.xlabel('F{} ({}%)'.format(\n",
    "                d1+1, round(100*pca.explained_variance_ratio_[d1], 1)))\n",
    "            plt.ylabel('F{} ({}%)'.format(\n",
    "                d2+1, round(100*pca.explained_variance_ratio_[d2], 1)))\n",
    "\n",
    "            plt.title(\n",
    "                \"Projection des individus (sur F{} et F{})\".format(d1+1, d2+1))\n",
    "            plt.show(block=False)\n",
    "\n",
    "\n",
    "def display_scree_plot(pca):\n",
    "    scree = pca.explained_variance_ratio_*100\n",
    "    plt.bar(np.arange(len(scree))+1, scree)\n",
    "    plt.plot(np.arange(len(scree))+1, scree.cumsum(), c=\"red\", marker='o')\n",
    "    plt.xlabel(\"rang de l'axe d'inertie\")\n",
    "    plt.ylabel(\"pourcentage d'inertie\")\n",
    "    plt.title(\"Eboulis des valeurs propres\")\n",
    "    plt.show(block=False)\n",
    "\n",
    "\n",
    "def plot_dendrogram(Z, names):\n",
    "    plt.figure(figsize=(10, 25))\n",
    "    plt.title('Hierarchical Clustering Dendrogram')\n",
    "    plt.xlabel('distance')\n",
    "    dendrogram(\n",
    "        Z,\n",
    "        labels=names,\n",
    "        orientation=\"left\",\n",
    "    )\n",
    "    plt.show()\n",
    "\n",
    "\n",
    "def eta_squared(x, y):\n",
    "    moyenne_y = y.mean()\n",
    "    classes = []\n",
    "    for classe in x.unique():\n",
    "        yi_classe = y[x == classe]\n",
    "        classes.append({'ni': len(yi_classe),\n",
    "                        'moyenne_classe': yi_classe.mean()})\n",
    "    SCT = sum([(yj-moyenne_y)**2 for yj in y])\n",
    "    SCE = sum([c['ni']*(c['moyenne_classe']-moyenne_y)**2 for c in classes])\n",
    "    return SCE/SCT"
   ]
  },
  {
   "cell_type": "markdown",
   "metadata": {},
   "source": [
    "J'importe les différents datasets"
   ]
  },
  {
   "cell_type": "code",
   "execution_count": 1241,
   "metadata": {},
   "outputs": [],
   "source": [
    "df_olist_customers_dataset = pd.read_csv(\n",
    "    'olist_customers_dataset.csv', delimiter=',')\n",
    "df_olist_geolocation_dataset = pd.read_csv(\n",
    "    'olist_geolocation_dataset.csv', delimiter=',')\n",
    "df_olist_order_items_dataset = pd.read_csv(\n",
    "    'olist_order_items_dataset.csv', delimiter=',')\n",
    "df_olist_order_payments_dataset = pd.read_csv(\n",
    "    'olist_order_payments_dataset.csv', delimiter=',')\n",
    "df_olist_order_reviews_dataset = pd.read_csv(\n",
    "    'olist_order_reviews_dataset.csv', delimiter=',')\n",
    "df_olist_orders_dataset = pd.read_csv(\n",
    "    'olist_orders_dataset.csv', delimiter=',')\n",
    "df_olist_products_dataset = pd.read_csv(\n",
    "    'olist_products_dataset.csv', delimiter=',')\n",
    "df_olist_sellers_dataset = pd.read_csv(\n",
    "    'olist_sellers_dataset.csv', delimiter=',')\n",
    "df_product_category_name_translation = pd.read_csv(\n",
    "    'product_category_name_translation.csv', delimiter=',')"
   ]
  },
  {
   "cell_type": "markdown",
   "metadata": {},
   "source": [
    "Je regarde les colonnes pour identifier les clefs primaires et secondaires reliants les différentes tables."
   ]
  },
  {
   "cell_type": "code",
   "execution_count": 1242,
   "metadata": {},
   "outputs": [
    {
     "data": {
      "text/html": [
       "<div>\n",
       "<style scoped>\n",
       "    .dataframe tbody tr th:only-of-type {\n",
       "        vertical-align: middle;\n",
       "    }\n",
       "\n",
       "    .dataframe tbody tr th {\n",
       "        vertical-align: top;\n",
       "    }\n",
       "\n",
       "    .dataframe thead th {\n",
       "        text-align: right;\n",
       "    }\n",
       "</style>\n",
       "<table border=\"1\" class=\"dataframe\">\n",
       "  <thead>\n",
       "    <tr style=\"text-align: right;\">\n",
       "      <th></th>\n",
       "      <th>customer_id</th>\n",
       "      <th>customer_unique_id</th>\n",
       "      <th>customer_zip_code_prefix</th>\n",
       "      <th>customer_city</th>\n",
       "      <th>customer_state</th>\n",
       "    </tr>\n",
       "  </thead>\n",
       "  <tbody>\n",
       "    <tr>\n",
       "      <th>0</th>\n",
       "      <td>06b8999e2fba1a1fbc88172c00ba8bc7</td>\n",
       "      <td>861eff4711a542e4b93843c6dd7febb0</td>\n",
       "      <td>14409</td>\n",
       "      <td>franca</td>\n",
       "      <td>SP</td>\n",
       "    </tr>\n",
       "    <tr>\n",
       "      <th>1</th>\n",
       "      <td>18955e83d337fd6b2def6b18a428ac77</td>\n",
       "      <td>290c77bc529b7ac935b93aa66c333dc3</td>\n",
       "      <td>9790</td>\n",
       "      <td>sao bernardo do campo</td>\n",
       "      <td>SP</td>\n",
       "    </tr>\n",
       "    <tr>\n",
       "      <th>2</th>\n",
       "      <td>4e7b3e00288586ebd08712fdd0374a03</td>\n",
       "      <td>060e732b5b29e8181a18229c7b0b2b5e</td>\n",
       "      <td>1151</td>\n",
       "      <td>sao paulo</td>\n",
       "      <td>SP</td>\n",
       "    </tr>\n",
       "    <tr>\n",
       "      <th>3</th>\n",
       "      <td>b2b6027bc5c5109e529d4dc6358b12c3</td>\n",
       "      <td>259dac757896d24d7702b9acbbff3f3c</td>\n",
       "      <td>8775</td>\n",
       "      <td>mogi das cruzes</td>\n",
       "      <td>SP</td>\n",
       "    </tr>\n",
       "    <tr>\n",
       "      <th>4</th>\n",
       "      <td>4f2d8ab171c80ec8364f7c12e35b23ad</td>\n",
       "      <td>345ecd01c38d18a9036ed96c73b8d066</td>\n",
       "      <td>13056</td>\n",
       "      <td>campinas</td>\n",
       "      <td>SP</td>\n",
       "    </tr>\n",
       "  </tbody>\n",
       "</table>\n",
       "</div>"
      ],
      "text/plain": [
       "                        customer_id                customer_unique_id  \\\n",
       "0  06b8999e2fba1a1fbc88172c00ba8bc7  861eff4711a542e4b93843c6dd7febb0   \n",
       "1  18955e83d337fd6b2def6b18a428ac77  290c77bc529b7ac935b93aa66c333dc3   \n",
       "2  4e7b3e00288586ebd08712fdd0374a03  060e732b5b29e8181a18229c7b0b2b5e   \n",
       "3  b2b6027bc5c5109e529d4dc6358b12c3  259dac757896d24d7702b9acbbff3f3c   \n",
       "4  4f2d8ab171c80ec8364f7c12e35b23ad  345ecd01c38d18a9036ed96c73b8d066   \n",
       "\n",
       "   customer_zip_code_prefix          customer_city customer_state  \n",
       "0                     14409                 franca             SP  \n",
       "1                      9790  sao bernardo do campo             SP  \n",
       "2                      1151              sao paulo             SP  \n",
       "3                      8775        mogi das cruzes             SP  \n",
       "4                     13056               campinas             SP  "
      ]
     },
     "execution_count": 1242,
     "metadata": {},
     "output_type": "execute_result"
    }
   ],
   "source": [
    "df_olist_customers_dataset.head()"
   ]
  },
  {
   "cell_type": "code",
   "execution_count": 1243,
   "metadata": {},
   "outputs": [
    {
     "data": {
      "text/html": [
       "<div>\n",
       "<style scoped>\n",
       "    .dataframe tbody tr th:only-of-type {\n",
       "        vertical-align: middle;\n",
       "    }\n",
       "\n",
       "    .dataframe tbody tr th {\n",
       "        vertical-align: top;\n",
       "    }\n",
       "\n",
       "    .dataframe thead th {\n",
       "        text-align: right;\n",
       "    }\n",
       "</style>\n",
       "<table border=\"1\" class=\"dataframe\">\n",
       "  <thead>\n",
       "    <tr style=\"text-align: right;\">\n",
       "      <th></th>\n",
       "      <th>geolocation_zip_code_prefix</th>\n",
       "      <th>geolocation_lat</th>\n",
       "      <th>geolocation_lng</th>\n",
       "      <th>geolocation_city</th>\n",
       "      <th>geolocation_state</th>\n",
       "    </tr>\n",
       "  </thead>\n",
       "  <tbody>\n",
       "    <tr>\n",
       "      <th>0</th>\n",
       "      <td>1037</td>\n",
       "      <td>-23.545621</td>\n",
       "      <td>-46.639292</td>\n",
       "      <td>sao paulo</td>\n",
       "      <td>SP</td>\n",
       "    </tr>\n",
       "    <tr>\n",
       "      <th>1</th>\n",
       "      <td>1046</td>\n",
       "      <td>-23.546081</td>\n",
       "      <td>-46.644820</td>\n",
       "      <td>sao paulo</td>\n",
       "      <td>SP</td>\n",
       "    </tr>\n",
       "    <tr>\n",
       "      <th>2</th>\n",
       "      <td>1046</td>\n",
       "      <td>-23.546129</td>\n",
       "      <td>-46.642951</td>\n",
       "      <td>sao paulo</td>\n",
       "      <td>SP</td>\n",
       "    </tr>\n",
       "    <tr>\n",
       "      <th>3</th>\n",
       "      <td>1041</td>\n",
       "      <td>-23.544392</td>\n",
       "      <td>-46.639499</td>\n",
       "      <td>sao paulo</td>\n",
       "      <td>SP</td>\n",
       "    </tr>\n",
       "    <tr>\n",
       "      <th>4</th>\n",
       "      <td>1035</td>\n",
       "      <td>-23.541578</td>\n",
       "      <td>-46.641607</td>\n",
       "      <td>sao paulo</td>\n",
       "      <td>SP</td>\n",
       "    </tr>\n",
       "  </tbody>\n",
       "</table>\n",
       "</div>"
      ],
      "text/plain": [
       "   geolocation_zip_code_prefix  geolocation_lat  geolocation_lng  \\\n",
       "0                         1037       -23.545621       -46.639292   \n",
       "1                         1046       -23.546081       -46.644820   \n",
       "2                         1046       -23.546129       -46.642951   \n",
       "3                         1041       -23.544392       -46.639499   \n",
       "4                         1035       -23.541578       -46.641607   \n",
       "\n",
       "  geolocation_city geolocation_state  \n",
       "0        sao paulo                SP  \n",
       "1        sao paulo                SP  \n",
       "2        sao paulo                SP  \n",
       "3        sao paulo                SP  \n",
       "4        sao paulo                SP  "
      ]
     },
     "execution_count": 1243,
     "metadata": {},
     "output_type": "execute_result"
    }
   ],
   "source": [
    "df_olist_geolocation_dataset.head()"
   ]
  },
  {
   "cell_type": "code",
   "execution_count": 1244,
   "metadata": {},
   "outputs": [
    {
     "data": {
      "text/html": [
       "<div>\n",
       "<style scoped>\n",
       "    .dataframe tbody tr th:only-of-type {\n",
       "        vertical-align: middle;\n",
       "    }\n",
       "\n",
       "    .dataframe tbody tr th {\n",
       "        vertical-align: top;\n",
       "    }\n",
       "\n",
       "    .dataframe thead th {\n",
       "        text-align: right;\n",
       "    }\n",
       "</style>\n",
       "<table border=\"1\" class=\"dataframe\">\n",
       "  <thead>\n",
       "    <tr style=\"text-align: right;\">\n",
       "      <th></th>\n",
       "      <th>order_id</th>\n",
       "      <th>order_item_id</th>\n",
       "      <th>product_id</th>\n",
       "      <th>seller_id</th>\n",
       "      <th>shipping_limit_date</th>\n",
       "      <th>price</th>\n",
       "      <th>freight_value</th>\n",
       "    </tr>\n",
       "  </thead>\n",
       "  <tbody>\n",
       "    <tr>\n",
       "      <th>0</th>\n",
       "      <td>00010242fe8c5a6d1ba2dd792cb16214</td>\n",
       "      <td>1</td>\n",
       "      <td>4244733e06e7ecb4970a6e2683c13e61</td>\n",
       "      <td>48436dade18ac8b2bce089ec2a041202</td>\n",
       "      <td>2017-09-19 09:45:35</td>\n",
       "      <td>58.90</td>\n",
       "      <td>13.29</td>\n",
       "    </tr>\n",
       "    <tr>\n",
       "      <th>1</th>\n",
       "      <td>00018f77f2f0320c557190d7a144bdd3</td>\n",
       "      <td>1</td>\n",
       "      <td>e5f2d52b802189ee658865ca93d83a8f</td>\n",
       "      <td>dd7ddc04e1b6c2c614352b383efe2d36</td>\n",
       "      <td>2017-05-03 11:05:13</td>\n",
       "      <td>239.90</td>\n",
       "      <td>19.93</td>\n",
       "    </tr>\n",
       "    <tr>\n",
       "      <th>2</th>\n",
       "      <td>000229ec398224ef6ca0657da4fc703e</td>\n",
       "      <td>1</td>\n",
       "      <td>c777355d18b72b67abbeef9df44fd0fd</td>\n",
       "      <td>5b51032eddd242adc84c38acab88f23d</td>\n",
       "      <td>2018-01-18 14:48:30</td>\n",
       "      <td>199.00</td>\n",
       "      <td>17.87</td>\n",
       "    </tr>\n",
       "    <tr>\n",
       "      <th>3</th>\n",
       "      <td>00024acbcdf0a6daa1e931b038114c75</td>\n",
       "      <td>1</td>\n",
       "      <td>7634da152a4610f1595efa32f14722fc</td>\n",
       "      <td>9d7a1d34a5052409006425275ba1c2b4</td>\n",
       "      <td>2018-08-15 10:10:18</td>\n",
       "      <td>12.99</td>\n",
       "      <td>12.79</td>\n",
       "    </tr>\n",
       "    <tr>\n",
       "      <th>4</th>\n",
       "      <td>00042b26cf59d7ce69dfabb4e55b4fd9</td>\n",
       "      <td>1</td>\n",
       "      <td>ac6c3623068f30de03045865e4e10089</td>\n",
       "      <td>df560393f3a51e74553ab94004ba5c87</td>\n",
       "      <td>2017-02-13 13:57:51</td>\n",
       "      <td>199.90</td>\n",
       "      <td>18.14</td>\n",
       "    </tr>\n",
       "  </tbody>\n",
       "</table>\n",
       "</div>"
      ],
      "text/plain": [
       "                           order_id  order_item_id  \\\n",
       "0  00010242fe8c5a6d1ba2dd792cb16214              1   \n",
       "1  00018f77f2f0320c557190d7a144bdd3              1   \n",
       "2  000229ec398224ef6ca0657da4fc703e              1   \n",
       "3  00024acbcdf0a6daa1e931b038114c75              1   \n",
       "4  00042b26cf59d7ce69dfabb4e55b4fd9              1   \n",
       "\n",
       "                         product_id                         seller_id  \\\n",
       "0  4244733e06e7ecb4970a6e2683c13e61  48436dade18ac8b2bce089ec2a041202   \n",
       "1  e5f2d52b802189ee658865ca93d83a8f  dd7ddc04e1b6c2c614352b383efe2d36   \n",
       "2  c777355d18b72b67abbeef9df44fd0fd  5b51032eddd242adc84c38acab88f23d   \n",
       "3  7634da152a4610f1595efa32f14722fc  9d7a1d34a5052409006425275ba1c2b4   \n",
       "4  ac6c3623068f30de03045865e4e10089  df560393f3a51e74553ab94004ba5c87   \n",
       "\n",
       "   shipping_limit_date   price  freight_value  \n",
       "0  2017-09-19 09:45:35   58.90          13.29  \n",
       "1  2017-05-03 11:05:13  239.90          19.93  \n",
       "2  2018-01-18 14:48:30  199.00          17.87  \n",
       "3  2018-08-15 10:10:18   12.99          12.79  \n",
       "4  2017-02-13 13:57:51  199.90          18.14  "
      ]
     },
     "execution_count": 1244,
     "metadata": {},
     "output_type": "execute_result"
    }
   ],
   "source": [
    "df_olist_order_items_dataset.head()"
   ]
  },
  {
   "cell_type": "code",
   "execution_count": 1245,
   "metadata": {},
   "outputs": [
    {
     "data": {
      "text/html": [
       "<div>\n",
       "<style scoped>\n",
       "    .dataframe tbody tr th:only-of-type {\n",
       "        vertical-align: middle;\n",
       "    }\n",
       "\n",
       "    .dataframe tbody tr th {\n",
       "        vertical-align: top;\n",
       "    }\n",
       "\n",
       "    .dataframe thead th {\n",
       "        text-align: right;\n",
       "    }\n",
       "</style>\n",
       "<table border=\"1\" class=\"dataframe\">\n",
       "  <thead>\n",
       "    <tr style=\"text-align: right;\">\n",
       "      <th></th>\n",
       "      <th>order_id</th>\n",
       "      <th>payment_sequential</th>\n",
       "      <th>payment_type</th>\n",
       "      <th>payment_installments</th>\n",
       "      <th>payment_value</th>\n",
       "    </tr>\n",
       "  </thead>\n",
       "  <tbody>\n",
       "    <tr>\n",
       "      <th>0</th>\n",
       "      <td>b81ef226f3fe1789b1e8b2acac839d17</td>\n",
       "      <td>1</td>\n",
       "      <td>credit_card</td>\n",
       "      <td>8</td>\n",
       "      <td>99.33</td>\n",
       "    </tr>\n",
       "    <tr>\n",
       "      <th>1</th>\n",
       "      <td>a9810da82917af2d9aefd1278f1dcfa0</td>\n",
       "      <td>1</td>\n",
       "      <td>credit_card</td>\n",
       "      <td>1</td>\n",
       "      <td>24.39</td>\n",
       "    </tr>\n",
       "    <tr>\n",
       "      <th>2</th>\n",
       "      <td>25e8ea4e93396b6fa0d3dd708e76c1bd</td>\n",
       "      <td>1</td>\n",
       "      <td>credit_card</td>\n",
       "      <td>1</td>\n",
       "      <td>65.71</td>\n",
       "    </tr>\n",
       "    <tr>\n",
       "      <th>3</th>\n",
       "      <td>ba78997921bbcdc1373bb41e913ab953</td>\n",
       "      <td>1</td>\n",
       "      <td>credit_card</td>\n",
       "      <td>8</td>\n",
       "      <td>107.78</td>\n",
       "    </tr>\n",
       "    <tr>\n",
       "      <th>4</th>\n",
       "      <td>42fdf880ba16b47b59251dd489d4441a</td>\n",
       "      <td>1</td>\n",
       "      <td>credit_card</td>\n",
       "      <td>2</td>\n",
       "      <td>128.45</td>\n",
       "    </tr>\n",
       "  </tbody>\n",
       "</table>\n",
       "</div>"
      ],
      "text/plain": [
       "                           order_id  payment_sequential payment_type  \\\n",
       "0  b81ef226f3fe1789b1e8b2acac839d17                   1  credit_card   \n",
       "1  a9810da82917af2d9aefd1278f1dcfa0                   1  credit_card   \n",
       "2  25e8ea4e93396b6fa0d3dd708e76c1bd                   1  credit_card   \n",
       "3  ba78997921bbcdc1373bb41e913ab953                   1  credit_card   \n",
       "4  42fdf880ba16b47b59251dd489d4441a                   1  credit_card   \n",
       "\n",
       "   payment_installments  payment_value  \n",
       "0                     8          99.33  \n",
       "1                     1          24.39  \n",
       "2                     1          65.71  \n",
       "3                     8         107.78  \n",
       "4                     2         128.45  "
      ]
     },
     "execution_count": 1245,
     "metadata": {},
     "output_type": "execute_result"
    }
   ],
   "source": [
    "df_olist_order_payments_dataset.head()"
   ]
  },
  {
   "cell_type": "code",
   "execution_count": 1246,
   "metadata": {},
   "outputs": [
    {
     "data": {
      "text/html": [
       "<div>\n",
       "<style scoped>\n",
       "    .dataframe tbody tr th:only-of-type {\n",
       "        vertical-align: middle;\n",
       "    }\n",
       "\n",
       "    .dataframe tbody tr th {\n",
       "        vertical-align: top;\n",
       "    }\n",
       "\n",
       "    .dataframe thead th {\n",
       "        text-align: right;\n",
       "    }\n",
       "</style>\n",
       "<table border=\"1\" class=\"dataframe\">\n",
       "  <thead>\n",
       "    <tr style=\"text-align: right;\">\n",
       "      <th></th>\n",
       "      <th>review_id</th>\n",
       "      <th>order_id</th>\n",
       "      <th>review_score</th>\n",
       "      <th>review_comment_title</th>\n",
       "      <th>review_comment_message</th>\n",
       "      <th>review_creation_date</th>\n",
       "      <th>review_answer_timestamp</th>\n",
       "    </tr>\n",
       "  </thead>\n",
       "  <tbody>\n",
       "    <tr>\n",
       "      <th>0</th>\n",
       "      <td>7bc2406110b926393aa56f80a40eba40</td>\n",
       "      <td>73fc7af87114b39712e6da79b0a377eb</td>\n",
       "      <td>4</td>\n",
       "      <td>NaN</td>\n",
       "      <td>NaN</td>\n",
       "      <td>2018-01-18 00:00:00</td>\n",
       "      <td>2018-01-18 21:46:59</td>\n",
       "    </tr>\n",
       "    <tr>\n",
       "      <th>1</th>\n",
       "      <td>80e641a11e56f04c1ad469d5645fdfde</td>\n",
       "      <td>a548910a1c6147796b98fdf73dbeba33</td>\n",
       "      <td>5</td>\n",
       "      <td>NaN</td>\n",
       "      <td>NaN</td>\n",
       "      <td>2018-03-10 00:00:00</td>\n",
       "      <td>2018-03-11 03:05:13</td>\n",
       "    </tr>\n",
       "    <tr>\n",
       "      <th>2</th>\n",
       "      <td>228ce5500dc1d8e020d8d1322874b6f0</td>\n",
       "      <td>f9e4b658b201a9f2ecdecbb34bed034b</td>\n",
       "      <td>5</td>\n",
       "      <td>NaN</td>\n",
       "      <td>NaN</td>\n",
       "      <td>2018-02-17 00:00:00</td>\n",
       "      <td>2018-02-18 14:36:24</td>\n",
       "    </tr>\n",
       "    <tr>\n",
       "      <th>3</th>\n",
       "      <td>e64fb393e7b32834bb789ff8bb30750e</td>\n",
       "      <td>658677c97b385a9be170737859d3511b</td>\n",
       "      <td>5</td>\n",
       "      <td>NaN</td>\n",
       "      <td>Recebi bem antes do prazo estipulado.</td>\n",
       "      <td>2017-04-21 00:00:00</td>\n",
       "      <td>2017-04-21 22:02:06</td>\n",
       "    </tr>\n",
       "    <tr>\n",
       "      <th>4</th>\n",
       "      <td>f7c4243c7fe1938f181bec41a392bdeb</td>\n",
       "      <td>8e6bfb81e283fa7e4f11123a3fb894f1</td>\n",
       "      <td>5</td>\n",
       "      <td>NaN</td>\n",
       "      <td>Parabéns lojas lannister adorei comprar pela I...</td>\n",
       "      <td>2018-03-01 00:00:00</td>\n",
       "      <td>2018-03-02 10:26:53</td>\n",
       "    </tr>\n",
       "  </tbody>\n",
       "</table>\n",
       "</div>"
      ],
      "text/plain": [
       "                          review_id                          order_id  \\\n",
       "0  7bc2406110b926393aa56f80a40eba40  73fc7af87114b39712e6da79b0a377eb   \n",
       "1  80e641a11e56f04c1ad469d5645fdfde  a548910a1c6147796b98fdf73dbeba33   \n",
       "2  228ce5500dc1d8e020d8d1322874b6f0  f9e4b658b201a9f2ecdecbb34bed034b   \n",
       "3  e64fb393e7b32834bb789ff8bb30750e  658677c97b385a9be170737859d3511b   \n",
       "4  f7c4243c7fe1938f181bec41a392bdeb  8e6bfb81e283fa7e4f11123a3fb894f1   \n",
       "\n",
       "   review_score review_comment_title  \\\n",
       "0             4                  NaN   \n",
       "1             5                  NaN   \n",
       "2             5                  NaN   \n",
       "3             5                  NaN   \n",
       "4             5                  NaN   \n",
       "\n",
       "                              review_comment_message review_creation_date  \\\n",
       "0                                                NaN  2018-01-18 00:00:00   \n",
       "1                                                NaN  2018-03-10 00:00:00   \n",
       "2                                                NaN  2018-02-17 00:00:00   \n",
       "3              Recebi bem antes do prazo estipulado.  2017-04-21 00:00:00   \n",
       "4  Parabéns lojas lannister adorei comprar pela I...  2018-03-01 00:00:00   \n",
       "\n",
       "  review_answer_timestamp  \n",
       "0     2018-01-18 21:46:59  \n",
       "1     2018-03-11 03:05:13  \n",
       "2     2018-02-18 14:36:24  \n",
       "3     2017-04-21 22:02:06  \n",
       "4     2018-03-02 10:26:53  "
      ]
     },
     "execution_count": 1246,
     "metadata": {},
     "output_type": "execute_result"
    }
   ],
   "source": [
    "df_olist_order_reviews_dataset.head()"
   ]
  },
  {
   "cell_type": "code",
   "execution_count": 1247,
   "metadata": {},
   "outputs": [
    {
     "data": {
      "text/html": [
       "<div>\n",
       "<style scoped>\n",
       "    .dataframe tbody tr th:only-of-type {\n",
       "        vertical-align: middle;\n",
       "    }\n",
       "\n",
       "    .dataframe tbody tr th {\n",
       "        vertical-align: top;\n",
       "    }\n",
       "\n",
       "    .dataframe thead th {\n",
       "        text-align: right;\n",
       "    }\n",
       "</style>\n",
       "<table border=\"1\" class=\"dataframe\">\n",
       "  <thead>\n",
       "    <tr style=\"text-align: right;\">\n",
       "      <th></th>\n",
       "      <th>order_id</th>\n",
       "      <th>customer_id</th>\n",
       "      <th>order_status</th>\n",
       "      <th>order_purchase_timestamp</th>\n",
       "      <th>order_approved_at</th>\n",
       "      <th>order_delivered_carrier_date</th>\n",
       "      <th>order_delivered_customer_date</th>\n",
       "      <th>order_estimated_delivery_date</th>\n",
       "    </tr>\n",
       "  </thead>\n",
       "  <tbody>\n",
       "    <tr>\n",
       "      <th>0</th>\n",
       "      <td>e481f51cbdc54678b7cc49136f2d6af7</td>\n",
       "      <td>9ef432eb6251297304e76186b10a928d</td>\n",
       "      <td>delivered</td>\n",
       "      <td>2017-10-02 10:56:33</td>\n",
       "      <td>2017-10-02 11:07:15</td>\n",
       "      <td>2017-10-04 19:55:00</td>\n",
       "      <td>2017-10-10 21:25:13</td>\n",
       "      <td>2017-10-18 00:00:00</td>\n",
       "    </tr>\n",
       "    <tr>\n",
       "      <th>1</th>\n",
       "      <td>53cdb2fc8bc7dce0b6741e2150273451</td>\n",
       "      <td>b0830fb4747a6c6d20dea0b8c802d7ef</td>\n",
       "      <td>delivered</td>\n",
       "      <td>2018-07-24 20:41:37</td>\n",
       "      <td>2018-07-26 03:24:27</td>\n",
       "      <td>2018-07-26 14:31:00</td>\n",
       "      <td>2018-08-07 15:27:45</td>\n",
       "      <td>2018-08-13 00:00:00</td>\n",
       "    </tr>\n",
       "    <tr>\n",
       "      <th>2</th>\n",
       "      <td>47770eb9100c2d0c44946d9cf07ec65d</td>\n",
       "      <td>41ce2a54c0b03bf3443c3d931a367089</td>\n",
       "      <td>delivered</td>\n",
       "      <td>2018-08-08 08:38:49</td>\n",
       "      <td>2018-08-08 08:55:23</td>\n",
       "      <td>2018-08-08 13:50:00</td>\n",
       "      <td>2018-08-17 18:06:29</td>\n",
       "      <td>2018-09-04 00:00:00</td>\n",
       "    </tr>\n",
       "    <tr>\n",
       "      <th>3</th>\n",
       "      <td>949d5b44dbf5de918fe9c16f97b45f8a</td>\n",
       "      <td>f88197465ea7920adcdbec7375364d82</td>\n",
       "      <td>delivered</td>\n",
       "      <td>2017-11-18 19:28:06</td>\n",
       "      <td>2017-11-18 19:45:59</td>\n",
       "      <td>2017-11-22 13:39:59</td>\n",
       "      <td>2017-12-02 00:28:42</td>\n",
       "      <td>2017-12-15 00:00:00</td>\n",
       "    </tr>\n",
       "    <tr>\n",
       "      <th>4</th>\n",
       "      <td>ad21c59c0840e6cb83a9ceb5573f8159</td>\n",
       "      <td>8ab97904e6daea8866dbdbc4fb7aad2c</td>\n",
       "      <td>delivered</td>\n",
       "      <td>2018-02-13 21:18:39</td>\n",
       "      <td>2018-02-13 22:20:29</td>\n",
       "      <td>2018-02-14 19:46:34</td>\n",
       "      <td>2018-02-16 18:17:02</td>\n",
       "      <td>2018-02-26 00:00:00</td>\n",
       "    </tr>\n",
       "  </tbody>\n",
       "</table>\n",
       "</div>"
      ],
      "text/plain": [
       "                           order_id                       customer_id  \\\n",
       "0  e481f51cbdc54678b7cc49136f2d6af7  9ef432eb6251297304e76186b10a928d   \n",
       "1  53cdb2fc8bc7dce0b6741e2150273451  b0830fb4747a6c6d20dea0b8c802d7ef   \n",
       "2  47770eb9100c2d0c44946d9cf07ec65d  41ce2a54c0b03bf3443c3d931a367089   \n",
       "3  949d5b44dbf5de918fe9c16f97b45f8a  f88197465ea7920adcdbec7375364d82   \n",
       "4  ad21c59c0840e6cb83a9ceb5573f8159  8ab97904e6daea8866dbdbc4fb7aad2c   \n",
       "\n",
       "  order_status order_purchase_timestamp    order_approved_at  \\\n",
       "0    delivered      2017-10-02 10:56:33  2017-10-02 11:07:15   \n",
       "1    delivered      2018-07-24 20:41:37  2018-07-26 03:24:27   \n",
       "2    delivered      2018-08-08 08:38:49  2018-08-08 08:55:23   \n",
       "3    delivered      2017-11-18 19:28:06  2017-11-18 19:45:59   \n",
       "4    delivered      2018-02-13 21:18:39  2018-02-13 22:20:29   \n",
       "\n",
       "  order_delivered_carrier_date order_delivered_customer_date  \\\n",
       "0          2017-10-04 19:55:00           2017-10-10 21:25:13   \n",
       "1          2018-07-26 14:31:00           2018-08-07 15:27:45   \n",
       "2          2018-08-08 13:50:00           2018-08-17 18:06:29   \n",
       "3          2017-11-22 13:39:59           2017-12-02 00:28:42   \n",
       "4          2018-02-14 19:46:34           2018-02-16 18:17:02   \n",
       "\n",
       "  order_estimated_delivery_date  \n",
       "0           2017-10-18 00:00:00  \n",
       "1           2018-08-13 00:00:00  \n",
       "2           2018-09-04 00:00:00  \n",
       "3           2017-12-15 00:00:00  \n",
       "4           2018-02-26 00:00:00  "
      ]
     },
     "execution_count": 1247,
     "metadata": {},
     "output_type": "execute_result"
    }
   ],
   "source": [
    "df_olist_orders_dataset.head()"
   ]
  },
  {
   "cell_type": "code",
   "execution_count": 1248,
   "metadata": {},
   "outputs": [
    {
     "data": {
      "text/html": [
       "<div>\n",
       "<style scoped>\n",
       "    .dataframe tbody tr th:only-of-type {\n",
       "        vertical-align: middle;\n",
       "    }\n",
       "\n",
       "    .dataframe tbody tr th {\n",
       "        vertical-align: top;\n",
       "    }\n",
       "\n",
       "    .dataframe thead th {\n",
       "        text-align: right;\n",
       "    }\n",
       "</style>\n",
       "<table border=\"1\" class=\"dataframe\">\n",
       "  <thead>\n",
       "    <tr style=\"text-align: right;\">\n",
       "      <th></th>\n",
       "      <th>product_id</th>\n",
       "      <th>product_category_name</th>\n",
       "      <th>product_name_lenght</th>\n",
       "      <th>product_description_lenght</th>\n",
       "      <th>product_photos_qty</th>\n",
       "      <th>product_weight_g</th>\n",
       "      <th>product_length_cm</th>\n",
       "      <th>product_height_cm</th>\n",
       "      <th>product_width_cm</th>\n",
       "    </tr>\n",
       "  </thead>\n",
       "  <tbody>\n",
       "    <tr>\n",
       "      <th>0</th>\n",
       "      <td>1e9e8ef04dbcff4541ed26657ea517e5</td>\n",
       "      <td>perfumaria</td>\n",
       "      <td>40.0</td>\n",
       "      <td>287.0</td>\n",
       "      <td>1.0</td>\n",
       "      <td>225.0</td>\n",
       "      <td>16.0</td>\n",
       "      <td>10.0</td>\n",
       "      <td>14.0</td>\n",
       "    </tr>\n",
       "    <tr>\n",
       "      <th>1</th>\n",
       "      <td>3aa071139cb16b67ca9e5dea641aaa2f</td>\n",
       "      <td>artes</td>\n",
       "      <td>44.0</td>\n",
       "      <td>276.0</td>\n",
       "      <td>1.0</td>\n",
       "      <td>1000.0</td>\n",
       "      <td>30.0</td>\n",
       "      <td>18.0</td>\n",
       "      <td>20.0</td>\n",
       "    </tr>\n",
       "    <tr>\n",
       "      <th>2</th>\n",
       "      <td>96bd76ec8810374ed1b65e291975717f</td>\n",
       "      <td>esporte_lazer</td>\n",
       "      <td>46.0</td>\n",
       "      <td>250.0</td>\n",
       "      <td>1.0</td>\n",
       "      <td>154.0</td>\n",
       "      <td>18.0</td>\n",
       "      <td>9.0</td>\n",
       "      <td>15.0</td>\n",
       "    </tr>\n",
       "    <tr>\n",
       "      <th>3</th>\n",
       "      <td>cef67bcfe19066a932b7673e239eb23d</td>\n",
       "      <td>bebes</td>\n",
       "      <td>27.0</td>\n",
       "      <td>261.0</td>\n",
       "      <td>1.0</td>\n",
       "      <td>371.0</td>\n",
       "      <td>26.0</td>\n",
       "      <td>4.0</td>\n",
       "      <td>26.0</td>\n",
       "    </tr>\n",
       "    <tr>\n",
       "      <th>4</th>\n",
       "      <td>9dc1a7de274444849c219cff195d0b71</td>\n",
       "      <td>utilidades_domesticas</td>\n",
       "      <td>37.0</td>\n",
       "      <td>402.0</td>\n",
       "      <td>4.0</td>\n",
       "      <td>625.0</td>\n",
       "      <td>20.0</td>\n",
       "      <td>17.0</td>\n",
       "      <td>13.0</td>\n",
       "    </tr>\n",
       "  </tbody>\n",
       "</table>\n",
       "</div>"
      ],
      "text/plain": [
       "                         product_id  product_category_name  \\\n",
       "0  1e9e8ef04dbcff4541ed26657ea517e5             perfumaria   \n",
       "1  3aa071139cb16b67ca9e5dea641aaa2f                  artes   \n",
       "2  96bd76ec8810374ed1b65e291975717f          esporte_lazer   \n",
       "3  cef67bcfe19066a932b7673e239eb23d                  bebes   \n",
       "4  9dc1a7de274444849c219cff195d0b71  utilidades_domesticas   \n",
       "\n",
       "   product_name_lenght  product_description_lenght  product_photos_qty  \\\n",
       "0                 40.0                       287.0                 1.0   \n",
       "1                 44.0                       276.0                 1.0   \n",
       "2                 46.0                       250.0                 1.0   \n",
       "3                 27.0                       261.0                 1.0   \n",
       "4                 37.0                       402.0                 4.0   \n",
       "\n",
       "   product_weight_g  product_length_cm  product_height_cm  product_width_cm  \n",
       "0             225.0               16.0               10.0              14.0  \n",
       "1            1000.0               30.0               18.0              20.0  \n",
       "2             154.0               18.0                9.0              15.0  \n",
       "3             371.0               26.0                4.0              26.0  \n",
       "4             625.0               20.0               17.0              13.0  "
      ]
     },
     "execution_count": 1248,
     "metadata": {},
     "output_type": "execute_result"
    }
   ],
   "source": [
    "df_olist_products_dataset.head()"
   ]
  },
  {
   "cell_type": "code",
   "execution_count": 1249,
   "metadata": {},
   "outputs": [
    {
     "data": {
      "text/html": [
       "<div>\n",
       "<style scoped>\n",
       "    .dataframe tbody tr th:only-of-type {\n",
       "        vertical-align: middle;\n",
       "    }\n",
       "\n",
       "    .dataframe tbody tr th {\n",
       "        vertical-align: top;\n",
       "    }\n",
       "\n",
       "    .dataframe thead th {\n",
       "        text-align: right;\n",
       "    }\n",
       "</style>\n",
       "<table border=\"1\" class=\"dataframe\">\n",
       "  <thead>\n",
       "    <tr style=\"text-align: right;\">\n",
       "      <th></th>\n",
       "      <th>seller_id</th>\n",
       "      <th>seller_zip_code_prefix</th>\n",
       "      <th>seller_city</th>\n",
       "      <th>seller_state</th>\n",
       "    </tr>\n",
       "  </thead>\n",
       "  <tbody>\n",
       "    <tr>\n",
       "      <th>0</th>\n",
       "      <td>3442f8959a84dea7ee197c632cb2df15</td>\n",
       "      <td>13023</td>\n",
       "      <td>campinas</td>\n",
       "      <td>SP</td>\n",
       "    </tr>\n",
       "    <tr>\n",
       "      <th>1</th>\n",
       "      <td>d1b65fc7debc3361ea86b5f14c68d2e2</td>\n",
       "      <td>13844</td>\n",
       "      <td>mogi guacu</td>\n",
       "      <td>SP</td>\n",
       "    </tr>\n",
       "    <tr>\n",
       "      <th>2</th>\n",
       "      <td>ce3ad9de960102d0677a81f5d0bb7b2d</td>\n",
       "      <td>20031</td>\n",
       "      <td>rio de janeiro</td>\n",
       "      <td>RJ</td>\n",
       "    </tr>\n",
       "    <tr>\n",
       "      <th>3</th>\n",
       "      <td>c0f3eea2e14555b6faeea3dd58c1b1c3</td>\n",
       "      <td>4195</td>\n",
       "      <td>sao paulo</td>\n",
       "      <td>SP</td>\n",
       "    </tr>\n",
       "    <tr>\n",
       "      <th>4</th>\n",
       "      <td>51a04a8a6bdcb23deccc82b0b80742cf</td>\n",
       "      <td>12914</td>\n",
       "      <td>braganca paulista</td>\n",
       "      <td>SP</td>\n",
       "    </tr>\n",
       "  </tbody>\n",
       "</table>\n",
       "</div>"
      ],
      "text/plain": [
       "                          seller_id  seller_zip_code_prefix  \\\n",
       "0  3442f8959a84dea7ee197c632cb2df15                   13023   \n",
       "1  d1b65fc7debc3361ea86b5f14c68d2e2                   13844   \n",
       "2  ce3ad9de960102d0677a81f5d0bb7b2d                   20031   \n",
       "3  c0f3eea2e14555b6faeea3dd58c1b1c3                    4195   \n",
       "4  51a04a8a6bdcb23deccc82b0b80742cf                   12914   \n",
       "\n",
       "         seller_city seller_state  \n",
       "0           campinas           SP  \n",
       "1         mogi guacu           SP  \n",
       "2     rio de janeiro           RJ  \n",
       "3          sao paulo           SP  \n",
       "4  braganca paulista           SP  "
      ]
     },
     "execution_count": 1249,
     "metadata": {},
     "output_type": "execute_result"
    }
   ],
   "source": [
    "df_olist_sellers_dataset.head()"
   ]
  },
  {
   "cell_type": "code",
   "execution_count": 1250,
   "metadata": {},
   "outputs": [
    {
     "data": {
      "text/html": [
       "<div>\n",
       "<style scoped>\n",
       "    .dataframe tbody tr th:only-of-type {\n",
       "        vertical-align: middle;\n",
       "    }\n",
       "\n",
       "    .dataframe tbody tr th {\n",
       "        vertical-align: top;\n",
       "    }\n",
       "\n",
       "    .dataframe thead th {\n",
       "        text-align: right;\n",
       "    }\n",
       "</style>\n",
       "<table border=\"1\" class=\"dataframe\">\n",
       "  <thead>\n",
       "    <tr style=\"text-align: right;\">\n",
       "      <th></th>\n",
       "      <th>product_category_name</th>\n",
       "      <th>product_category_name_english</th>\n",
       "    </tr>\n",
       "  </thead>\n",
       "  <tbody>\n",
       "    <tr>\n",
       "      <th>0</th>\n",
       "      <td>beleza_saude</td>\n",
       "      <td>health_beauty</td>\n",
       "    </tr>\n",
       "    <tr>\n",
       "      <th>1</th>\n",
       "      <td>informatica_acessorios</td>\n",
       "      <td>computers_accessories</td>\n",
       "    </tr>\n",
       "    <tr>\n",
       "      <th>2</th>\n",
       "      <td>automotivo</td>\n",
       "      <td>auto</td>\n",
       "    </tr>\n",
       "    <tr>\n",
       "      <th>3</th>\n",
       "      <td>cama_mesa_banho</td>\n",
       "      <td>bed_bath_table</td>\n",
       "    </tr>\n",
       "    <tr>\n",
       "      <th>4</th>\n",
       "      <td>moveis_decoracao</td>\n",
       "      <td>furniture_decor</td>\n",
       "    </tr>\n",
       "  </tbody>\n",
       "</table>\n",
       "</div>"
      ],
      "text/plain": [
       "    product_category_name product_category_name_english\n",
       "0            beleza_saude                 health_beauty\n",
       "1  informatica_acessorios         computers_accessories\n",
       "2              automotivo                          auto\n",
       "3         cama_mesa_banho                bed_bath_table\n",
       "4        moveis_decoracao               furniture_decor"
      ]
     },
     "execution_count": 1250,
     "metadata": {},
     "output_type": "execute_result"
    }
   ],
   "source": [
    "df_product_category_name_translation.head()"
   ]
  },
  {
   "cell_type": "code",
   "execution_count": 1251,
   "metadata": {},
   "outputs": [
    {
     "data": {
      "text/html": [
       "<div>\n",
       "<style scoped>\n",
       "    .dataframe tbody tr th:only-of-type {\n",
       "        vertical-align: middle;\n",
       "    }\n",
       "\n",
       "    .dataframe tbody tr th {\n",
       "        vertical-align: top;\n",
       "    }\n",
       "\n",
       "    .dataframe thead th {\n",
       "        text-align: right;\n",
       "    }\n",
       "</style>\n",
       "<table border=\"1\" class=\"dataframe\">\n",
       "  <thead>\n",
       "    <tr style=\"text-align: right;\">\n",
       "      <th></th>\n",
       "      <th>product_category_name</th>\n",
       "      <th>product_category_name_english</th>\n",
       "    </tr>\n",
       "  </thead>\n",
       "  <tbody>\n",
       "    <tr>\n",
       "      <th>0</th>\n",
       "      <td>beleza_saude</td>\n",
       "      <td>health_beauty</td>\n",
       "    </tr>\n",
       "    <tr>\n",
       "      <th>1</th>\n",
       "      <td>informatica_acessorios</td>\n",
       "      <td>computers_accessories</td>\n",
       "    </tr>\n",
       "    <tr>\n",
       "      <th>2</th>\n",
       "      <td>automotivo</td>\n",
       "      <td>auto</td>\n",
       "    </tr>\n",
       "    <tr>\n",
       "      <th>3</th>\n",
       "      <td>cama_mesa_banho</td>\n",
       "      <td>bed_bath_table</td>\n",
       "    </tr>\n",
       "    <tr>\n",
       "      <th>4</th>\n",
       "      <td>moveis_decoracao</td>\n",
       "      <td>furniture_decor</td>\n",
       "    </tr>\n",
       "    <tr>\n",
       "      <th>5</th>\n",
       "      <td>esporte_lazer</td>\n",
       "      <td>sports_leisure</td>\n",
       "    </tr>\n",
       "    <tr>\n",
       "      <th>6</th>\n",
       "      <td>perfumaria</td>\n",
       "      <td>perfumery</td>\n",
       "    </tr>\n",
       "    <tr>\n",
       "      <th>7</th>\n",
       "      <td>utilidades_domesticas</td>\n",
       "      <td>housewares</td>\n",
       "    </tr>\n",
       "    <tr>\n",
       "      <th>8</th>\n",
       "      <td>telefonia</td>\n",
       "      <td>telephony</td>\n",
       "    </tr>\n",
       "    <tr>\n",
       "      <th>9</th>\n",
       "      <td>relogios_presentes</td>\n",
       "      <td>watches_gifts</td>\n",
       "    </tr>\n",
       "    <tr>\n",
       "      <th>10</th>\n",
       "      <td>alimentos_bebidas</td>\n",
       "      <td>food_drink</td>\n",
       "    </tr>\n",
       "    <tr>\n",
       "      <th>11</th>\n",
       "      <td>bebes</td>\n",
       "      <td>baby</td>\n",
       "    </tr>\n",
       "    <tr>\n",
       "      <th>12</th>\n",
       "      <td>papelaria</td>\n",
       "      <td>stationery</td>\n",
       "    </tr>\n",
       "    <tr>\n",
       "      <th>13</th>\n",
       "      <td>tablets_impressao_imagem</td>\n",
       "      <td>tablets_printing_image</td>\n",
       "    </tr>\n",
       "    <tr>\n",
       "      <th>14</th>\n",
       "      <td>brinquedos</td>\n",
       "      <td>toys</td>\n",
       "    </tr>\n",
       "    <tr>\n",
       "      <th>15</th>\n",
       "      <td>telefonia_fixa</td>\n",
       "      <td>fixed_telephony</td>\n",
       "    </tr>\n",
       "    <tr>\n",
       "      <th>16</th>\n",
       "      <td>ferramentas_jardim</td>\n",
       "      <td>garden_tools</td>\n",
       "    </tr>\n",
       "    <tr>\n",
       "      <th>17</th>\n",
       "      <td>fashion_bolsas_e_acessorios</td>\n",
       "      <td>fashion_bags_accessories</td>\n",
       "    </tr>\n",
       "    <tr>\n",
       "      <th>18</th>\n",
       "      <td>eletroportateis</td>\n",
       "      <td>small_appliances</td>\n",
       "    </tr>\n",
       "    <tr>\n",
       "      <th>19</th>\n",
       "      <td>consoles_games</td>\n",
       "      <td>consoles_games</td>\n",
       "    </tr>\n",
       "    <tr>\n",
       "      <th>20</th>\n",
       "      <td>audio</td>\n",
       "      <td>audio</td>\n",
       "    </tr>\n",
       "    <tr>\n",
       "      <th>21</th>\n",
       "      <td>fashion_calcados</td>\n",
       "      <td>fashion_shoes</td>\n",
       "    </tr>\n",
       "    <tr>\n",
       "      <th>22</th>\n",
       "      <td>cool_stuff</td>\n",
       "      <td>cool_stuff</td>\n",
       "    </tr>\n",
       "    <tr>\n",
       "      <th>23</th>\n",
       "      <td>malas_acessorios</td>\n",
       "      <td>luggage_accessories</td>\n",
       "    </tr>\n",
       "    <tr>\n",
       "      <th>24</th>\n",
       "      <td>climatizacao</td>\n",
       "      <td>air_conditioning</td>\n",
       "    </tr>\n",
       "    <tr>\n",
       "      <th>25</th>\n",
       "      <td>construcao_ferramentas_construcao</td>\n",
       "      <td>construction_tools_construction</td>\n",
       "    </tr>\n",
       "    <tr>\n",
       "      <th>26</th>\n",
       "      <td>moveis_cozinha_area_de_servico_jantar_e_jardim</td>\n",
       "      <td>kitchen_dining_laundry_garden_furniture</td>\n",
       "    </tr>\n",
       "    <tr>\n",
       "      <th>27</th>\n",
       "      <td>construcao_ferramentas_jardim</td>\n",
       "      <td>costruction_tools_garden</td>\n",
       "    </tr>\n",
       "    <tr>\n",
       "      <th>28</th>\n",
       "      <td>fashion_roupa_masculina</td>\n",
       "      <td>fashion_male_clothing</td>\n",
       "    </tr>\n",
       "    <tr>\n",
       "      <th>29</th>\n",
       "      <td>pet_shop</td>\n",
       "      <td>pet_shop</td>\n",
       "    </tr>\n",
       "    <tr>\n",
       "      <th>30</th>\n",
       "      <td>moveis_escritorio</td>\n",
       "      <td>office_furniture</td>\n",
       "    </tr>\n",
       "    <tr>\n",
       "      <th>31</th>\n",
       "      <td>market_place</td>\n",
       "      <td>market_place</td>\n",
       "    </tr>\n",
       "    <tr>\n",
       "      <th>32</th>\n",
       "      <td>eletronicos</td>\n",
       "      <td>electronics</td>\n",
       "    </tr>\n",
       "    <tr>\n",
       "      <th>33</th>\n",
       "      <td>eletrodomesticos</td>\n",
       "      <td>home_appliances</td>\n",
       "    </tr>\n",
       "    <tr>\n",
       "      <th>34</th>\n",
       "      <td>artigos_de_festas</td>\n",
       "      <td>party_supplies</td>\n",
       "    </tr>\n",
       "    <tr>\n",
       "      <th>35</th>\n",
       "      <td>casa_conforto</td>\n",
       "      <td>home_confort</td>\n",
       "    </tr>\n",
       "    <tr>\n",
       "      <th>36</th>\n",
       "      <td>construcao_ferramentas_ferramentas</td>\n",
       "      <td>costruction_tools_tools</td>\n",
       "    </tr>\n",
       "    <tr>\n",
       "      <th>37</th>\n",
       "      <td>agro_industria_e_comercio</td>\n",
       "      <td>agro_industry_and_commerce</td>\n",
       "    </tr>\n",
       "    <tr>\n",
       "      <th>38</th>\n",
       "      <td>moveis_colchao_e_estofado</td>\n",
       "      <td>furniture_mattress_and_upholstery</td>\n",
       "    </tr>\n",
       "    <tr>\n",
       "      <th>39</th>\n",
       "      <td>livros_tecnicos</td>\n",
       "      <td>books_technical</td>\n",
       "    </tr>\n",
       "    <tr>\n",
       "      <th>40</th>\n",
       "      <td>casa_construcao</td>\n",
       "      <td>home_construction</td>\n",
       "    </tr>\n",
       "    <tr>\n",
       "      <th>41</th>\n",
       "      <td>instrumentos_musicais</td>\n",
       "      <td>musical_instruments</td>\n",
       "    </tr>\n",
       "    <tr>\n",
       "      <th>42</th>\n",
       "      <td>moveis_sala</td>\n",
       "      <td>furniture_living_room</td>\n",
       "    </tr>\n",
       "    <tr>\n",
       "      <th>43</th>\n",
       "      <td>construcao_ferramentas_iluminacao</td>\n",
       "      <td>construction_tools_lights</td>\n",
       "    </tr>\n",
       "    <tr>\n",
       "      <th>44</th>\n",
       "      <td>industria_comercio_e_negocios</td>\n",
       "      <td>industry_commerce_and_business</td>\n",
       "    </tr>\n",
       "    <tr>\n",
       "      <th>45</th>\n",
       "      <td>alimentos</td>\n",
       "      <td>food</td>\n",
       "    </tr>\n",
       "    <tr>\n",
       "      <th>46</th>\n",
       "      <td>artes</td>\n",
       "      <td>art</td>\n",
       "    </tr>\n",
       "    <tr>\n",
       "      <th>47</th>\n",
       "      <td>moveis_quarto</td>\n",
       "      <td>furniture_bedroom</td>\n",
       "    </tr>\n",
       "    <tr>\n",
       "      <th>48</th>\n",
       "      <td>livros_interesse_geral</td>\n",
       "      <td>books_general_interest</td>\n",
       "    </tr>\n",
       "    <tr>\n",
       "      <th>49</th>\n",
       "      <td>construcao_ferramentas_seguranca</td>\n",
       "      <td>construction_tools_safety</td>\n",
       "    </tr>\n",
       "    <tr>\n",
       "      <th>50</th>\n",
       "      <td>fashion_underwear_e_moda_praia</td>\n",
       "      <td>fashion_underwear_beach</td>\n",
       "    </tr>\n",
       "    <tr>\n",
       "      <th>51</th>\n",
       "      <td>fashion_esporte</td>\n",
       "      <td>fashion_sport</td>\n",
       "    </tr>\n",
       "    <tr>\n",
       "      <th>52</th>\n",
       "      <td>sinalizacao_e_seguranca</td>\n",
       "      <td>signaling_and_security</td>\n",
       "    </tr>\n",
       "    <tr>\n",
       "      <th>53</th>\n",
       "      <td>pcs</td>\n",
       "      <td>computers</td>\n",
       "    </tr>\n",
       "    <tr>\n",
       "      <th>54</th>\n",
       "      <td>artigos_de_natal</td>\n",
       "      <td>christmas_supplies</td>\n",
       "    </tr>\n",
       "    <tr>\n",
       "      <th>55</th>\n",
       "      <td>fashion_roupa_feminina</td>\n",
       "      <td>fashio_female_clothing</td>\n",
       "    </tr>\n",
       "    <tr>\n",
       "      <th>56</th>\n",
       "      <td>eletrodomesticos_2</td>\n",
       "      <td>home_appliances_2</td>\n",
       "    </tr>\n",
       "    <tr>\n",
       "      <th>57</th>\n",
       "      <td>livros_importados</td>\n",
       "      <td>books_imported</td>\n",
       "    </tr>\n",
       "    <tr>\n",
       "      <th>58</th>\n",
       "      <td>bebidas</td>\n",
       "      <td>drinks</td>\n",
       "    </tr>\n",
       "    <tr>\n",
       "      <th>59</th>\n",
       "      <td>cine_foto</td>\n",
       "      <td>cine_photo</td>\n",
       "    </tr>\n",
       "    <tr>\n",
       "      <th>60</th>\n",
       "      <td>la_cuisine</td>\n",
       "      <td>la_cuisine</td>\n",
       "    </tr>\n",
       "    <tr>\n",
       "      <th>61</th>\n",
       "      <td>musica</td>\n",
       "      <td>music</td>\n",
       "    </tr>\n",
       "    <tr>\n",
       "      <th>62</th>\n",
       "      <td>casa_conforto_2</td>\n",
       "      <td>home_comfort_2</td>\n",
       "    </tr>\n",
       "    <tr>\n",
       "      <th>63</th>\n",
       "      <td>portateis_casa_forno_e_cafe</td>\n",
       "      <td>small_appliances_home_oven_and_coffee</td>\n",
       "    </tr>\n",
       "    <tr>\n",
       "      <th>64</th>\n",
       "      <td>cds_dvds_musicais</td>\n",
       "      <td>cds_dvds_musicals</td>\n",
       "    </tr>\n",
       "    <tr>\n",
       "      <th>65</th>\n",
       "      <td>dvds_blu_ray</td>\n",
       "      <td>dvds_blu_ray</td>\n",
       "    </tr>\n",
       "    <tr>\n",
       "      <th>66</th>\n",
       "      <td>flores</td>\n",
       "      <td>flowers</td>\n",
       "    </tr>\n",
       "    <tr>\n",
       "      <th>67</th>\n",
       "      <td>artes_e_artesanato</td>\n",
       "      <td>arts_and_craftmanship</td>\n",
       "    </tr>\n",
       "    <tr>\n",
       "      <th>68</th>\n",
       "      <td>fraldas_higiene</td>\n",
       "      <td>diapers_and_hygiene</td>\n",
       "    </tr>\n",
       "    <tr>\n",
       "      <th>69</th>\n",
       "      <td>fashion_roupa_infanto_juvenil</td>\n",
       "      <td>fashion_childrens_clothes</td>\n",
       "    </tr>\n",
       "    <tr>\n",
       "      <th>70</th>\n",
       "      <td>seguros_e_servicos</td>\n",
       "      <td>security_and_services</td>\n",
       "    </tr>\n",
       "  </tbody>\n",
       "</table>\n",
       "</div>"
      ],
      "text/plain": [
       "                             product_category_name  \\\n",
       "0                                     beleza_saude   \n",
       "1                           informatica_acessorios   \n",
       "2                                       automotivo   \n",
       "3                                  cama_mesa_banho   \n",
       "4                                 moveis_decoracao   \n",
       "5                                    esporte_lazer   \n",
       "6                                       perfumaria   \n",
       "7                            utilidades_domesticas   \n",
       "8                                        telefonia   \n",
       "9                               relogios_presentes   \n",
       "10                               alimentos_bebidas   \n",
       "11                                           bebes   \n",
       "12                                       papelaria   \n",
       "13                        tablets_impressao_imagem   \n",
       "14                                      brinquedos   \n",
       "15                                  telefonia_fixa   \n",
       "16                              ferramentas_jardim   \n",
       "17                     fashion_bolsas_e_acessorios   \n",
       "18                                 eletroportateis   \n",
       "19                                  consoles_games   \n",
       "20                                           audio   \n",
       "21                                fashion_calcados   \n",
       "22                                      cool_stuff   \n",
       "23                                malas_acessorios   \n",
       "24                                    climatizacao   \n",
       "25               construcao_ferramentas_construcao   \n",
       "26  moveis_cozinha_area_de_servico_jantar_e_jardim   \n",
       "27                   construcao_ferramentas_jardim   \n",
       "28                         fashion_roupa_masculina   \n",
       "29                                        pet_shop   \n",
       "30                               moveis_escritorio   \n",
       "31                                    market_place   \n",
       "32                                     eletronicos   \n",
       "33                                eletrodomesticos   \n",
       "34                               artigos_de_festas   \n",
       "35                                   casa_conforto   \n",
       "36              construcao_ferramentas_ferramentas   \n",
       "37                       agro_industria_e_comercio   \n",
       "38                       moveis_colchao_e_estofado   \n",
       "39                                 livros_tecnicos   \n",
       "40                                 casa_construcao   \n",
       "41                           instrumentos_musicais   \n",
       "42                                     moveis_sala   \n",
       "43               construcao_ferramentas_iluminacao   \n",
       "44                   industria_comercio_e_negocios   \n",
       "45                                       alimentos   \n",
       "46                                           artes   \n",
       "47                                   moveis_quarto   \n",
       "48                          livros_interesse_geral   \n",
       "49                construcao_ferramentas_seguranca   \n",
       "50                  fashion_underwear_e_moda_praia   \n",
       "51                                 fashion_esporte   \n",
       "52                         sinalizacao_e_seguranca   \n",
       "53                                             pcs   \n",
       "54                                artigos_de_natal   \n",
       "55                          fashion_roupa_feminina   \n",
       "56                              eletrodomesticos_2   \n",
       "57                               livros_importados   \n",
       "58                                         bebidas   \n",
       "59                                       cine_foto   \n",
       "60                                      la_cuisine   \n",
       "61                                          musica   \n",
       "62                                 casa_conforto_2   \n",
       "63                     portateis_casa_forno_e_cafe   \n",
       "64                               cds_dvds_musicais   \n",
       "65                                    dvds_blu_ray   \n",
       "66                                          flores   \n",
       "67                              artes_e_artesanato   \n",
       "68                                 fraldas_higiene   \n",
       "69                   fashion_roupa_infanto_juvenil   \n",
       "70                              seguros_e_servicos   \n",
       "\n",
       "              product_category_name_english  \n",
       "0                             health_beauty  \n",
       "1                     computers_accessories  \n",
       "2                                      auto  \n",
       "3                            bed_bath_table  \n",
       "4                           furniture_decor  \n",
       "5                            sports_leisure  \n",
       "6                                 perfumery  \n",
       "7                                housewares  \n",
       "8                                 telephony  \n",
       "9                             watches_gifts  \n",
       "10                               food_drink  \n",
       "11                                     baby  \n",
       "12                               stationery  \n",
       "13                   tablets_printing_image  \n",
       "14                                     toys  \n",
       "15                          fixed_telephony  \n",
       "16                             garden_tools  \n",
       "17                 fashion_bags_accessories  \n",
       "18                         small_appliances  \n",
       "19                           consoles_games  \n",
       "20                                    audio  \n",
       "21                            fashion_shoes  \n",
       "22                               cool_stuff  \n",
       "23                      luggage_accessories  \n",
       "24                         air_conditioning  \n",
       "25          construction_tools_construction  \n",
       "26  kitchen_dining_laundry_garden_furniture  \n",
       "27                 costruction_tools_garden  \n",
       "28                    fashion_male_clothing  \n",
       "29                                 pet_shop  \n",
       "30                         office_furniture  \n",
       "31                             market_place  \n",
       "32                              electronics  \n",
       "33                          home_appliances  \n",
       "34                           party_supplies  \n",
       "35                             home_confort  \n",
       "36                  costruction_tools_tools  \n",
       "37               agro_industry_and_commerce  \n",
       "38        furniture_mattress_and_upholstery  \n",
       "39                          books_technical  \n",
       "40                        home_construction  \n",
       "41                      musical_instruments  \n",
       "42                    furniture_living_room  \n",
       "43                construction_tools_lights  \n",
       "44           industry_commerce_and_business  \n",
       "45                                     food  \n",
       "46                                      art  \n",
       "47                        furniture_bedroom  \n",
       "48                   books_general_interest  \n",
       "49                construction_tools_safety  \n",
       "50                  fashion_underwear_beach  \n",
       "51                            fashion_sport  \n",
       "52                   signaling_and_security  \n",
       "53                                computers  \n",
       "54                       christmas_supplies  \n",
       "55                   fashio_female_clothing  \n",
       "56                        home_appliances_2  \n",
       "57                           books_imported  \n",
       "58                                   drinks  \n",
       "59                               cine_photo  \n",
       "60                               la_cuisine  \n",
       "61                                    music  \n",
       "62                           home_comfort_2  \n",
       "63    small_appliances_home_oven_and_coffee  \n",
       "64                        cds_dvds_musicals  \n",
       "65                             dvds_blu_ray  \n",
       "66                                  flowers  \n",
       "67                    arts_and_craftmanship  \n",
       "68                      diapers_and_hygiene  \n",
       "69                fashion_childrens_clothes  \n",
       "70                    security_and_services  "
      ]
     },
     "execution_count": 1251,
     "metadata": {},
     "output_type": "execute_result"
    }
   ],
   "source": [
    "df_product_category_name_translation.explode('product_category_name')"
   ]
  },
  {
   "cell_type": "markdown",
   "metadata": {},
   "source": [
    "J'étudie le nombre d'enregistrement et la cardinalité entre les tables \"df_olist_customers_dataset\" et \"df_olist_orders_dataset\""
   ]
  },
  {
   "cell_type": "code",
   "execution_count": 1252,
   "metadata": {},
   "outputs": [
    {
     "data": {
      "text/plain": [
       "99441"
      ]
     },
     "execution_count": 1252,
     "metadata": {},
     "output_type": "execute_result"
    }
   ],
   "source": [
    "df_olist_orders_dataset.shape[0]"
   ]
  },
  {
   "cell_type": "code",
   "execution_count": 1253,
   "metadata": {},
   "outputs": [
    {
     "data": {
      "text/plain": [
       "99441"
      ]
     },
     "execution_count": 1253,
     "metadata": {},
     "output_type": "execute_result"
    }
   ],
   "source": [
    "df_olist_customers_dataset.merge(\n",
    "    df_olist_orders_dataset, on='customer_id', how='inner').shape[0]"
   ]
  },
  {
   "cell_type": "code",
   "execution_count": 1254,
   "metadata": {},
   "outputs": [
    {
     "data": {
      "text/plain": [
       "99441"
      ]
     },
     "execution_count": 1254,
     "metadata": {},
     "output_type": "execute_result"
    }
   ],
   "source": [
    "df_olist_customers_dataset.merge(\n",
    "    df_olist_orders_dataset, on='customer_id', how='right').shape[0]"
   ]
  },
  {
   "cell_type": "code",
   "execution_count": 1255,
   "metadata": {},
   "outputs": [
    {
     "data": {
      "text/plain": [
       "99441"
      ]
     },
     "execution_count": 1255,
     "metadata": {},
     "output_type": "execute_result"
    }
   ],
   "source": [
    "df_olist_customers_dataset.merge(\n",
    "    df_olist_orders_dataset, on='customer_id', how='left').shape[0]"
   ]
  },
  {
   "cell_type": "markdown",
   "metadata": {},
   "source": [
    "J'ai une cardinalité de 1 : 1 pour les 2 tables \"df_olist_customers_dataset\" et \"df_olist_orders_dataset\""
   ]
  },
  {
   "cell_type": "markdown",
   "metadata": {},
   "source": [
    "Je regarde maintenant la cardinalité entre \"df_olist_orders_dataset\" et \"df_olist_order_reviews_dataset\""
   ]
  },
  {
   "cell_type": "code",
   "execution_count": 1256,
   "metadata": {},
   "outputs": [
    {
     "data": {
      "text/plain": [
       "99224"
      ]
     },
     "execution_count": 1256,
     "metadata": {},
     "output_type": "execute_result"
    }
   ],
   "source": [
    "df_olist_order_reviews_dataset.shape[0]"
   ]
  },
  {
   "cell_type": "code",
   "execution_count": 1257,
   "metadata": {},
   "outputs": [
    {
     "data": {
      "text/plain": [
       "99224"
      ]
     },
     "execution_count": 1257,
     "metadata": {},
     "output_type": "execute_result"
    }
   ],
   "source": [
    "df_olist_orders_dataset.merge(\n",
    "    df_olist_order_reviews_dataset, on='order_id', how='inner').shape[0]"
   ]
  },
  {
   "cell_type": "code",
   "execution_count": 1258,
   "metadata": {},
   "outputs": [
    {
     "data": {
      "text/plain": [
       "99224"
      ]
     },
     "execution_count": 1258,
     "metadata": {},
     "output_type": "execute_result"
    }
   ],
   "source": [
    "df_olist_orders_dataset.merge(\n",
    "    df_olist_order_reviews_dataset, on='order_id', how='right').shape[0]"
   ]
  },
  {
   "cell_type": "code",
   "execution_count": 1259,
   "metadata": {},
   "outputs": [
    {
     "data": {
      "text/plain": [
       "99992"
      ]
     },
     "execution_count": 1259,
     "metadata": {},
     "output_type": "execute_result"
    }
   ],
   "source": [
    "df_olist_orders_dataset.merge(\n",
    "    df_olist_order_reviews_dataset, on='order_id', how='left').shape[0]"
   ]
  },
  {
   "cell_type": "code",
   "execution_count": 1260,
   "metadata": {},
   "outputs": [
    {
     "data": {
      "text/plain": [
       "768"
      ]
     },
     "execution_count": 1260,
     "metadata": {},
     "output_type": "execute_result"
    }
   ],
   "source": [
    "99992-99224"
   ]
  },
  {
   "cell_type": "markdown",
   "metadata": {},
   "source": [
    "Il y a 768 commandes sans review. Je décide de les retirer -> inner join"
   ]
  },
  {
   "cell_type": "markdown",
   "metadata": {},
   "source": [
    "Je regarde maintenant la cardinalité entre \"df_olist_orders_dataset\" et \"df_olist_order_items_dataset\""
   ]
  },
  {
   "cell_type": "code",
   "execution_count": 1261,
   "metadata": {},
   "outputs": [
    {
     "data": {
      "text/plain": [
       "112650"
      ]
     },
     "execution_count": 1261,
     "metadata": {},
     "output_type": "execute_result"
    }
   ],
   "source": [
    "df_olist_order_items_dataset.shape[0]"
   ]
  },
  {
   "cell_type": "code",
   "execution_count": 1262,
   "metadata": {},
   "outputs": [
    {
     "data": {
      "text/plain": [
       "112650"
      ]
     },
     "execution_count": 1262,
     "metadata": {},
     "output_type": "execute_result"
    }
   ],
   "source": [
    "df_olist_orders_dataset.merge(\n",
    "    df_olist_order_items_dataset, on='order_id', how='inner').shape[0]"
   ]
  },
  {
   "cell_type": "code",
   "execution_count": 1263,
   "metadata": {},
   "outputs": [
    {
     "data": {
      "text/plain": [
       "112650"
      ]
     },
     "execution_count": 1263,
     "metadata": {},
     "output_type": "execute_result"
    }
   ],
   "source": [
    "df_olist_orders_dataset.merge(\n",
    "    df_olist_order_items_dataset, on='order_id', how='right').shape[0]"
   ]
  },
  {
   "cell_type": "code",
   "execution_count": 1264,
   "metadata": {},
   "outputs": [
    {
     "data": {
      "text/plain": [
       "113425"
      ]
     },
     "execution_count": 1264,
     "metadata": {},
     "output_type": "execute_result"
    }
   ],
   "source": [
    "df_olist_orders_dataset.merge(\n",
    "    df_olist_order_items_dataset, on='order_id', how='left').shape[0]"
   ]
  },
  {
   "cell_type": "code",
   "execution_count": 1265,
   "metadata": {},
   "outputs": [
    {
     "data": {
      "text/plain": [
       "775"
      ]
     },
     "execution_count": 1265,
     "metadata": {},
     "output_type": "execute_result"
    }
   ],
   "source": [
    "113425-112650"
   ]
  },
  {
   "cell_type": "markdown",
   "metadata": {},
   "source": [
    "Il y a 775 commandes qui n'ont pas de sous items et donc sans aucun lien vers un produit. Je décide de retirer ces lignes -> inner join"
   ]
  },
  {
   "cell_type": "markdown",
   "metadata": {},
   "source": [
    "Nous sommes dans le cas de figure où des tables ont été exportées séparément."
   ]
  },
  {
   "cell_type": "markdown",
   "metadata": {},
   "source": [
    "Après analyse je décide de ne pas garder les tables \"olist_sellers_dataset\", \"df_olist_order_payments_dataset\", \"olist_products_dataset\" et \"product_category_name_translation\"."
   ]
  },
  {
   "cell_type": "markdown",
   "metadata": {},
   "source": [
    "Sur les autres DataFrames, je fais la sélection suivante:"
   ]
  },
  {
   "cell_type": "raw",
   "metadata": {},
   "source": [
    "olist_customers_dataset:\n",
    "-customer_id              -> je supprime après jointure\n",
    "-customer_unique_id       ---------------> je conserve \n",
    "-customer_city            -> je supprime \n",
    "-customer_state           -> je supprime "
   ]
  },
  {
   "cell_type": "raw",
   "metadata": {},
   "source": [
    "olist_orders_dataset:\n",
    "-order_id                      -> je supprime après jointure\n",
    "-customer_id                   -> je supprime après jointure\n",
    "-order_status                  -> je supprime \n",
    "-order_purchase_timestamp      ---------------> je conserve \n",
    "-order_approved_at             -> je supprime\n",
    "-order_delivered_carrier_date  -> je supprime\n",
    "-order_delivered_customer_date -> je supprime\n",
    "-order_estimated_delivery_date -> je supprime"
   ]
  },
  {
   "cell_type": "raw",
   "metadata": {},
   "source": [
    "olist_order_reviews_dataset:\n",
    "-review_id               -> je supprime\n",
    "-order_id                -> je supprime après jointure\n",
    "-review_score            ---------------> je conserve \n",
    "-review_comment_title    -> je supprime\n",
    "-review_comment_message  -> je supprime\n",
    "-review_creation_date    -> je supprime\n",
    "-review_answer_timestamp -> je supprime"
   ]
  },
  {
   "cell_type": "raw",
   "metadata": {},
   "source": [
    "df_olist_order_items_dataset\n",
    "-order_id             -> je supprime après jointure\n",
    "-order_item_id        -> je supprime\n",
    "-product_id           -> je supprime\n",
    "-seller_id            -> je supprime\n",
    "-shipping_limit_date  -> je supprime\n",
    "-price                ---------------> je conserve\n",
    "-freight_value        -> je supprime"
   ]
  },
  {
   "cell_type": "markdown",
   "metadata": {},
   "source": [
    "Je joins les DataFrames \"df_olist_customers_dataset\" et \"df_olist_orders_dataset\""
   ]
  },
  {
   "cell_type": "code",
   "execution_count": 1266,
   "metadata": {},
   "outputs": [],
   "source": [
    "df_olist_custumer = df_olist_customers_dataset[['customer_id', 'customer_unique_id']].merge(\n",
    "    df_olist_orders_dataset[['order_id', 'customer_id', 'order_purchase_timestamp']], left_on='customer_id', right_on='customer_id')"
   ]
  },
  {
   "cell_type": "markdown",
   "metadata": {},
   "source": [
    "Je joins les DataFrames \"df_olist_custumer\" et \"df_olist_order_reviews_dataset\""
   ]
  },
  {
   "cell_type": "code",
   "execution_count": 1267,
   "metadata": {},
   "outputs": [],
   "source": [
    "df_olist_custumer = df_olist_custumer.merge(df_olist_order_reviews_dataset[[\n",
    "                                            'order_id', 'review_score']], left_on='order_id', right_on='order_id')"
   ]
  },
  {
   "cell_type": "markdown",
   "metadata": {},
   "source": [
    "Je joins les DataFrames \"df_olist_custumer\" et \"df_olist_order_items_dataset\""
   ]
  },
  {
   "cell_type": "code",
   "execution_count": 1268,
   "metadata": {},
   "outputs": [],
   "source": [
    "df_olist_custumer = df_olist_custumer.merge(df_olist_order_items_dataset[[\n",
    "                                            'order_id', 'price']], left_on='order_id', right_on='order_id')"
   ]
  },
  {
   "cell_type": "code",
   "execution_count": 1269,
   "metadata": {},
   "outputs": [
    {
     "data": {
      "text/html": [
       "<div>\n",
       "<style scoped>\n",
       "    .dataframe tbody tr th:only-of-type {\n",
       "        vertical-align: middle;\n",
       "    }\n",
       "\n",
       "    .dataframe tbody tr th {\n",
       "        vertical-align: top;\n",
       "    }\n",
       "\n",
       "    .dataframe thead th {\n",
       "        text-align: right;\n",
       "    }\n",
       "</style>\n",
       "<table border=\"1\" class=\"dataframe\">\n",
       "  <thead>\n",
       "    <tr style=\"text-align: right;\">\n",
       "      <th></th>\n",
       "      <th>customer_id</th>\n",
       "      <th>customer_unique_id</th>\n",
       "      <th>order_id</th>\n",
       "      <th>order_purchase_timestamp</th>\n",
       "      <th>review_score</th>\n",
       "      <th>price</th>\n",
       "    </tr>\n",
       "  </thead>\n",
       "  <tbody>\n",
       "    <tr>\n",
       "      <th>0</th>\n",
       "      <td>06b8999e2fba1a1fbc88172c00ba8bc7</td>\n",
       "      <td>861eff4711a542e4b93843c6dd7febb0</td>\n",
       "      <td>00e7ee1b050b8499577073aeb2a297a1</td>\n",
       "      <td>2017-05-16 15:05:35</td>\n",
       "      <td>4</td>\n",
       "      <td>124.99</td>\n",
       "    </tr>\n",
       "    <tr>\n",
       "      <th>1</th>\n",
       "      <td>18955e83d337fd6b2def6b18a428ac77</td>\n",
       "      <td>290c77bc529b7ac935b93aa66c333dc3</td>\n",
       "      <td>29150127e6685892b6eab3eec79f59c7</td>\n",
       "      <td>2018-01-12 20:48:24</td>\n",
       "      <td>5</td>\n",
       "      <td>289.00</td>\n",
       "    </tr>\n",
       "    <tr>\n",
       "      <th>2</th>\n",
       "      <td>4e7b3e00288586ebd08712fdd0374a03</td>\n",
       "      <td>060e732b5b29e8181a18229c7b0b2b5e</td>\n",
       "      <td>b2059ed67ce144a36e2aa97d2c9e9ad2</td>\n",
       "      <td>2018-05-19 16:07:45</td>\n",
       "      <td>5</td>\n",
       "      <td>139.94</td>\n",
       "    </tr>\n",
       "    <tr>\n",
       "      <th>3</th>\n",
       "      <td>b2b6027bc5c5109e529d4dc6358b12c3</td>\n",
       "      <td>259dac757896d24d7702b9acbbff3f3c</td>\n",
       "      <td>951670f92359f4fe4a63112aa7306eba</td>\n",
       "      <td>2018-03-13 16:06:38</td>\n",
       "      <td>5</td>\n",
       "      <td>149.94</td>\n",
       "    </tr>\n",
       "    <tr>\n",
       "      <th>4</th>\n",
       "      <td>4f2d8ab171c80ec8364f7c12e35b23ad</td>\n",
       "      <td>345ecd01c38d18a9036ed96c73b8d066</td>\n",
       "      <td>6b7d50bd145f6fc7f33cebabd7e49d0f</td>\n",
       "      <td>2018-07-29 09:51:30</td>\n",
       "      <td>5</td>\n",
       "      <td>230.00</td>\n",
       "    </tr>\n",
       "    <tr>\n",
       "      <th>...</th>\n",
       "      <td>...</td>\n",
       "      <td>...</td>\n",
       "      <td>...</td>\n",
       "      <td>...</td>\n",
       "      <td>...</td>\n",
       "      <td>...</td>\n",
       "    </tr>\n",
       "    <tr>\n",
       "      <th>112367</th>\n",
       "      <td>17ddf5dd5d51696bb3d7c6291687be6f</td>\n",
       "      <td>1a29b476fee25c95fbafc67c5ac95cf8</td>\n",
       "      <td>6760e20addcf0121e9d58f2f1ff14298</td>\n",
       "      <td>2018-04-07 15:48:17</td>\n",
       "      <td>4</td>\n",
       "      <td>74.90</td>\n",
       "    </tr>\n",
       "    <tr>\n",
       "      <th>112368</th>\n",
       "      <td>e7b71a9017aa05c9a7fd292d714858e8</td>\n",
       "      <td>d52a67c98be1cf6a5c84435bd38d095d</td>\n",
       "      <td>9ec0c8947d973db4f4e8dcf1fbfa8f1b</td>\n",
       "      <td>2018-04-04 08:20:22</td>\n",
       "      <td>5</td>\n",
       "      <td>114.90</td>\n",
       "    </tr>\n",
       "    <tr>\n",
       "      <th>112369</th>\n",
       "      <td>5e28dfe12db7fb50a4b2f691faecea5e</td>\n",
       "      <td>e9f50caf99f032f0bf3c55141f019d99</td>\n",
       "      <td>fed4434add09a6f332ea398efd656a5c</td>\n",
       "      <td>2018-04-08 20:11:50</td>\n",
       "      <td>1</td>\n",
       "      <td>37.00</td>\n",
       "    </tr>\n",
       "    <tr>\n",
       "      <th>112370</th>\n",
       "      <td>56b18e2166679b8a959d72dd06da27f9</td>\n",
       "      <td>73c2643a0a458b49f58cea58833b192e</td>\n",
       "      <td>e31ec91cea1ecf97797787471f98a8c2</td>\n",
       "      <td>2017-11-03 21:08:33</td>\n",
       "      <td>5</td>\n",
       "      <td>689.00</td>\n",
       "    </tr>\n",
       "    <tr>\n",
       "      <th>112371</th>\n",
       "      <td>274fa6071e5e17fe303b9748641082c8</td>\n",
       "      <td>84732c5050c01db9b23e19ba39899398</td>\n",
       "      <td>28db69209a75e59f20ccbb5c36a20b90</td>\n",
       "      <td>2017-12-19 14:27:23</td>\n",
       "      <td>5</td>\n",
       "      <td>13.99</td>\n",
       "    </tr>\n",
       "  </tbody>\n",
       "</table>\n",
       "<p>112372 rows × 6 columns</p>\n",
       "</div>"
      ],
      "text/plain": [
       "                             customer_id                customer_unique_id  \\\n",
       "0       06b8999e2fba1a1fbc88172c00ba8bc7  861eff4711a542e4b93843c6dd7febb0   \n",
       "1       18955e83d337fd6b2def6b18a428ac77  290c77bc529b7ac935b93aa66c333dc3   \n",
       "2       4e7b3e00288586ebd08712fdd0374a03  060e732b5b29e8181a18229c7b0b2b5e   \n",
       "3       b2b6027bc5c5109e529d4dc6358b12c3  259dac757896d24d7702b9acbbff3f3c   \n",
       "4       4f2d8ab171c80ec8364f7c12e35b23ad  345ecd01c38d18a9036ed96c73b8d066   \n",
       "...                                  ...                               ...   \n",
       "112367  17ddf5dd5d51696bb3d7c6291687be6f  1a29b476fee25c95fbafc67c5ac95cf8   \n",
       "112368  e7b71a9017aa05c9a7fd292d714858e8  d52a67c98be1cf6a5c84435bd38d095d   \n",
       "112369  5e28dfe12db7fb50a4b2f691faecea5e  e9f50caf99f032f0bf3c55141f019d99   \n",
       "112370  56b18e2166679b8a959d72dd06da27f9  73c2643a0a458b49f58cea58833b192e   \n",
       "112371  274fa6071e5e17fe303b9748641082c8  84732c5050c01db9b23e19ba39899398   \n",
       "\n",
       "                                order_id order_purchase_timestamp  \\\n",
       "0       00e7ee1b050b8499577073aeb2a297a1      2017-05-16 15:05:35   \n",
       "1       29150127e6685892b6eab3eec79f59c7      2018-01-12 20:48:24   \n",
       "2       b2059ed67ce144a36e2aa97d2c9e9ad2      2018-05-19 16:07:45   \n",
       "3       951670f92359f4fe4a63112aa7306eba      2018-03-13 16:06:38   \n",
       "4       6b7d50bd145f6fc7f33cebabd7e49d0f      2018-07-29 09:51:30   \n",
       "...                                  ...                      ...   \n",
       "112367  6760e20addcf0121e9d58f2f1ff14298      2018-04-07 15:48:17   \n",
       "112368  9ec0c8947d973db4f4e8dcf1fbfa8f1b      2018-04-04 08:20:22   \n",
       "112369  fed4434add09a6f332ea398efd656a5c      2018-04-08 20:11:50   \n",
       "112370  e31ec91cea1ecf97797787471f98a8c2      2017-11-03 21:08:33   \n",
       "112371  28db69209a75e59f20ccbb5c36a20b90      2017-12-19 14:27:23   \n",
       "\n",
       "        review_score   price  \n",
       "0                  4  124.99  \n",
       "1                  5  289.00  \n",
       "2                  5  139.94  \n",
       "3                  5  149.94  \n",
       "4                  5  230.00  \n",
       "...              ...     ...  \n",
       "112367             4   74.90  \n",
       "112368             5  114.90  \n",
       "112369             1   37.00  \n",
       "112370             5  689.00  \n",
       "112371             5   13.99  \n",
       "\n",
       "[112372 rows x 6 columns]"
      ]
     },
     "execution_count": 1269,
     "metadata": {},
     "output_type": "execute_result"
    }
   ],
   "source": [
    "df_olist_custumer"
   ]
  },
  {
   "cell_type": "markdown",
   "metadata": {},
   "source": [
    "Je retire les variables qui ne nous servent plus 'order_id','customer_id'"
   ]
  },
  {
   "cell_type": "code",
   "execution_count": 1270,
   "metadata": {},
   "outputs": [],
   "source": [
    "df_olist_custumer = df_olist_custumer.drop(['order_id', 'customer_id'], axis=1)"
   ]
  },
  {
   "cell_type": "code",
   "execution_count": 1271,
   "metadata": {},
   "outputs": [
    {
     "data": {
      "text/html": [
       "<div>\n",
       "<style scoped>\n",
       "    .dataframe tbody tr th:only-of-type {\n",
       "        vertical-align: middle;\n",
       "    }\n",
       "\n",
       "    .dataframe tbody tr th {\n",
       "        vertical-align: top;\n",
       "    }\n",
       "\n",
       "    .dataframe thead th {\n",
       "        text-align: right;\n",
       "    }\n",
       "</style>\n",
       "<table border=\"1\" class=\"dataframe\">\n",
       "  <thead>\n",
       "    <tr style=\"text-align: right;\">\n",
       "      <th></th>\n",
       "      <th>customer_unique_id</th>\n",
       "      <th>order_purchase_timestamp</th>\n",
       "      <th>review_score</th>\n",
       "      <th>price</th>\n",
       "    </tr>\n",
       "  </thead>\n",
       "  <tbody>\n",
       "    <tr>\n",
       "      <th>0</th>\n",
       "      <td>861eff4711a542e4b93843c6dd7febb0</td>\n",
       "      <td>2017-05-16 15:05:35</td>\n",
       "      <td>4</td>\n",
       "      <td>124.99</td>\n",
       "    </tr>\n",
       "    <tr>\n",
       "      <th>1</th>\n",
       "      <td>290c77bc529b7ac935b93aa66c333dc3</td>\n",
       "      <td>2018-01-12 20:48:24</td>\n",
       "      <td>5</td>\n",
       "      <td>289.00</td>\n",
       "    </tr>\n",
       "    <tr>\n",
       "      <th>2</th>\n",
       "      <td>060e732b5b29e8181a18229c7b0b2b5e</td>\n",
       "      <td>2018-05-19 16:07:45</td>\n",
       "      <td>5</td>\n",
       "      <td>139.94</td>\n",
       "    </tr>\n",
       "    <tr>\n",
       "      <th>3</th>\n",
       "      <td>259dac757896d24d7702b9acbbff3f3c</td>\n",
       "      <td>2018-03-13 16:06:38</td>\n",
       "      <td>5</td>\n",
       "      <td>149.94</td>\n",
       "    </tr>\n",
       "    <tr>\n",
       "      <th>4</th>\n",
       "      <td>345ecd01c38d18a9036ed96c73b8d066</td>\n",
       "      <td>2018-07-29 09:51:30</td>\n",
       "      <td>5</td>\n",
       "      <td>230.00</td>\n",
       "    </tr>\n",
       "    <tr>\n",
       "      <th>...</th>\n",
       "      <td>...</td>\n",
       "      <td>...</td>\n",
       "      <td>...</td>\n",
       "      <td>...</td>\n",
       "    </tr>\n",
       "    <tr>\n",
       "      <th>112367</th>\n",
       "      <td>1a29b476fee25c95fbafc67c5ac95cf8</td>\n",
       "      <td>2018-04-07 15:48:17</td>\n",
       "      <td>4</td>\n",
       "      <td>74.90</td>\n",
       "    </tr>\n",
       "    <tr>\n",
       "      <th>112368</th>\n",
       "      <td>d52a67c98be1cf6a5c84435bd38d095d</td>\n",
       "      <td>2018-04-04 08:20:22</td>\n",
       "      <td>5</td>\n",
       "      <td>114.90</td>\n",
       "    </tr>\n",
       "    <tr>\n",
       "      <th>112369</th>\n",
       "      <td>e9f50caf99f032f0bf3c55141f019d99</td>\n",
       "      <td>2018-04-08 20:11:50</td>\n",
       "      <td>1</td>\n",
       "      <td>37.00</td>\n",
       "    </tr>\n",
       "    <tr>\n",
       "      <th>112370</th>\n",
       "      <td>73c2643a0a458b49f58cea58833b192e</td>\n",
       "      <td>2017-11-03 21:08:33</td>\n",
       "      <td>5</td>\n",
       "      <td>689.00</td>\n",
       "    </tr>\n",
       "    <tr>\n",
       "      <th>112371</th>\n",
       "      <td>84732c5050c01db9b23e19ba39899398</td>\n",
       "      <td>2017-12-19 14:27:23</td>\n",
       "      <td>5</td>\n",
       "      <td>13.99</td>\n",
       "    </tr>\n",
       "  </tbody>\n",
       "</table>\n",
       "<p>112372 rows × 4 columns</p>\n",
       "</div>"
      ],
      "text/plain": [
       "                      customer_unique_id order_purchase_timestamp  \\\n",
       "0       861eff4711a542e4b93843c6dd7febb0      2017-05-16 15:05:35   \n",
       "1       290c77bc529b7ac935b93aa66c333dc3      2018-01-12 20:48:24   \n",
       "2       060e732b5b29e8181a18229c7b0b2b5e      2018-05-19 16:07:45   \n",
       "3       259dac757896d24d7702b9acbbff3f3c      2018-03-13 16:06:38   \n",
       "4       345ecd01c38d18a9036ed96c73b8d066      2018-07-29 09:51:30   \n",
       "...                                  ...                      ...   \n",
       "112367  1a29b476fee25c95fbafc67c5ac95cf8      2018-04-07 15:48:17   \n",
       "112368  d52a67c98be1cf6a5c84435bd38d095d      2018-04-04 08:20:22   \n",
       "112369  e9f50caf99f032f0bf3c55141f019d99      2018-04-08 20:11:50   \n",
       "112370  73c2643a0a458b49f58cea58833b192e      2017-11-03 21:08:33   \n",
       "112371  84732c5050c01db9b23e19ba39899398      2017-12-19 14:27:23   \n",
       "\n",
       "        review_score   price  \n",
       "0                  4  124.99  \n",
       "1                  5  289.00  \n",
       "2                  5  139.94  \n",
       "3                  5  149.94  \n",
       "4                  5  230.00  \n",
       "...              ...     ...  \n",
       "112367             4   74.90  \n",
       "112368             5  114.90  \n",
       "112369             1   37.00  \n",
       "112370             5  689.00  \n",
       "112371             5   13.99  \n",
       "\n",
       "[112372 rows x 4 columns]"
      ]
     },
     "execution_count": 1271,
     "metadata": {},
     "output_type": "execute_result"
    }
   ],
   "source": [
    "df_olist_custumer"
   ]
  },
  {
   "cell_type": "markdown",
   "metadata": {},
   "source": [
    "Je regarde le taux de remplissage des variables"
   ]
  },
  {
   "cell_type": "code",
   "execution_count": 1272,
   "metadata": {},
   "outputs": [
    {
     "data": {
      "text/html": [
       "<div>\n",
       "<style scoped>\n",
       "    .dataframe tbody tr th:only-of-type {\n",
       "        vertical-align: middle;\n",
       "    }\n",
       "\n",
       "    .dataframe tbody tr th {\n",
       "        vertical-align: top;\n",
       "    }\n",
       "\n",
       "    .dataframe thead th {\n",
       "        text-align: right;\n",
       "    }\n",
       "</style>\n",
       "<table border=\"1\" class=\"dataframe\">\n",
       "  <thead>\n",
       "    <tr style=\"text-align: right;\">\n",
       "      <th></th>\n",
       "      <th>Nom</th>\n",
       "      <th>nb na</th>\n",
       "      <th>% remplissage</th>\n",
       "    </tr>\n",
       "  </thead>\n",
       "  <tbody>\n",
       "    <tr>\n",
       "      <th>0</th>\n",
       "      <td>customer_unique_id</td>\n",
       "      <td>0</td>\n",
       "      <td>100.0</td>\n",
       "    </tr>\n",
       "    <tr>\n",
       "      <th>1</th>\n",
       "      <td>order_purchase_timestamp</td>\n",
       "      <td>0</td>\n",
       "      <td>100.0</td>\n",
       "    </tr>\n",
       "    <tr>\n",
       "      <th>2</th>\n",
       "      <td>review_score</td>\n",
       "      <td>0</td>\n",
       "      <td>100.0</td>\n",
       "    </tr>\n",
       "    <tr>\n",
       "      <th>3</th>\n",
       "      <td>price</td>\n",
       "      <td>0</td>\n",
       "      <td>100.0</td>\n",
       "    </tr>\n",
       "  </tbody>\n",
       "</table>\n",
       "</div>"
      ],
      "text/plain": [
       "                        Nom  nb na  % remplissage\n",
       "0        customer_unique_id      0          100.0\n",
       "1  order_purchase_timestamp      0          100.0\n",
       "2              review_score      0          100.0\n",
       "3                     price      0          100.0"
      ]
     },
     "execution_count": 1272,
     "metadata": {},
     "output_type": "execute_result"
    }
   ],
   "source": [
    "df_analyzed = df_olist_custumer\n",
    "\n",
    "nb_lignes = df_analyzed.index.size\n",
    "\n",
    "rows = []\n",
    "\n",
    "for nom_colonne in df_analyzed.columns.values:\n",
    "    nb_na = df_analyzed[nom_colonne].isna().sum()\n",
    "    rate_na = 100 * (1 - nb_na/nb_lignes)\n",
    "    rows.append([nom_colonne, nb_na, rate_na])\n",
    "\n",
    "df_remplissage_colonnes = pd.DataFrame(rows, columns=[\n",
    "                                       \"Nom\", \"nb na\", \"% remplissage\"]).sort_values(by=[\"% remplissage\"], ascending=False)\n",
    "df_remplissage_colonnes"
   ]
  },
  {
   "cell_type": "code",
   "execution_count": 1273,
   "metadata": {},
   "outputs": [
    {
     "data": {
      "text/html": [
       "<div>\n",
       "<style scoped>\n",
       "    .dataframe tbody tr th:only-of-type {\n",
       "        vertical-align: middle;\n",
       "    }\n",
       "\n",
       "    .dataframe tbody tr th {\n",
       "        vertical-align: top;\n",
       "    }\n",
       "\n",
       "    .dataframe thead th {\n",
       "        text-align: right;\n",
       "    }\n",
       "</style>\n",
       "<table border=\"1\" class=\"dataframe\">\n",
       "  <thead>\n",
       "    <tr style=\"text-align: right;\">\n",
       "      <th></th>\n",
       "      <th>customer_unique_id</th>\n",
       "      <th>order_purchase_timestamp</th>\n",
       "      <th>review_score</th>\n",
       "      <th>price</th>\n",
       "    </tr>\n",
       "  </thead>\n",
       "  <tbody>\n",
       "    <tr>\n",
       "      <th>0</th>\n",
       "      <td>861eff4711a542e4b93843c6dd7febb0</td>\n",
       "      <td>2017-05-16 15:05:35</td>\n",
       "      <td>4</td>\n",
       "      <td>124.99</td>\n",
       "    </tr>\n",
       "    <tr>\n",
       "      <th>1</th>\n",
       "      <td>290c77bc529b7ac935b93aa66c333dc3</td>\n",
       "      <td>2018-01-12 20:48:24</td>\n",
       "      <td>5</td>\n",
       "      <td>289.00</td>\n",
       "    </tr>\n",
       "    <tr>\n",
       "      <th>2</th>\n",
       "      <td>060e732b5b29e8181a18229c7b0b2b5e</td>\n",
       "      <td>2018-05-19 16:07:45</td>\n",
       "      <td>5</td>\n",
       "      <td>139.94</td>\n",
       "    </tr>\n",
       "    <tr>\n",
       "      <th>3</th>\n",
       "      <td>259dac757896d24d7702b9acbbff3f3c</td>\n",
       "      <td>2018-03-13 16:06:38</td>\n",
       "      <td>5</td>\n",
       "      <td>149.94</td>\n",
       "    </tr>\n",
       "    <tr>\n",
       "      <th>4</th>\n",
       "      <td>345ecd01c38d18a9036ed96c73b8d066</td>\n",
       "      <td>2018-07-29 09:51:30</td>\n",
       "      <td>5</td>\n",
       "      <td>230.00</td>\n",
       "    </tr>\n",
       "    <tr>\n",
       "      <th>...</th>\n",
       "      <td>...</td>\n",
       "      <td>...</td>\n",
       "      <td>...</td>\n",
       "      <td>...</td>\n",
       "    </tr>\n",
       "    <tr>\n",
       "      <th>112367</th>\n",
       "      <td>1a29b476fee25c95fbafc67c5ac95cf8</td>\n",
       "      <td>2018-04-07 15:48:17</td>\n",
       "      <td>4</td>\n",
       "      <td>74.90</td>\n",
       "    </tr>\n",
       "    <tr>\n",
       "      <th>112368</th>\n",
       "      <td>d52a67c98be1cf6a5c84435bd38d095d</td>\n",
       "      <td>2018-04-04 08:20:22</td>\n",
       "      <td>5</td>\n",
       "      <td>114.90</td>\n",
       "    </tr>\n",
       "    <tr>\n",
       "      <th>112369</th>\n",
       "      <td>e9f50caf99f032f0bf3c55141f019d99</td>\n",
       "      <td>2018-04-08 20:11:50</td>\n",
       "      <td>1</td>\n",
       "      <td>37.00</td>\n",
       "    </tr>\n",
       "    <tr>\n",
       "      <th>112370</th>\n",
       "      <td>73c2643a0a458b49f58cea58833b192e</td>\n",
       "      <td>2017-11-03 21:08:33</td>\n",
       "      <td>5</td>\n",
       "      <td>689.00</td>\n",
       "    </tr>\n",
       "    <tr>\n",
       "      <th>112371</th>\n",
       "      <td>84732c5050c01db9b23e19ba39899398</td>\n",
       "      <td>2017-12-19 14:27:23</td>\n",
       "      <td>5</td>\n",
       "      <td>13.99</td>\n",
       "    </tr>\n",
       "  </tbody>\n",
       "</table>\n",
       "<p>112372 rows × 4 columns</p>\n",
       "</div>"
      ],
      "text/plain": [
       "                      customer_unique_id order_purchase_timestamp  \\\n",
       "0       861eff4711a542e4b93843c6dd7febb0      2017-05-16 15:05:35   \n",
       "1       290c77bc529b7ac935b93aa66c333dc3      2018-01-12 20:48:24   \n",
       "2       060e732b5b29e8181a18229c7b0b2b5e      2018-05-19 16:07:45   \n",
       "3       259dac757896d24d7702b9acbbff3f3c      2018-03-13 16:06:38   \n",
       "4       345ecd01c38d18a9036ed96c73b8d066      2018-07-29 09:51:30   \n",
       "...                                  ...                      ...   \n",
       "112367  1a29b476fee25c95fbafc67c5ac95cf8      2018-04-07 15:48:17   \n",
       "112368  d52a67c98be1cf6a5c84435bd38d095d      2018-04-04 08:20:22   \n",
       "112369  e9f50caf99f032f0bf3c55141f019d99      2018-04-08 20:11:50   \n",
       "112370  73c2643a0a458b49f58cea58833b192e      2017-11-03 21:08:33   \n",
       "112371  84732c5050c01db9b23e19ba39899398      2017-12-19 14:27:23   \n",
       "\n",
       "        review_score   price  \n",
       "0                  4  124.99  \n",
       "1                  5  289.00  \n",
       "2                  5  139.94  \n",
       "3                  5  149.94  \n",
       "4                  5  230.00  \n",
       "...              ...     ...  \n",
       "112367             4   74.90  \n",
       "112368             5  114.90  \n",
       "112369             1   37.00  \n",
       "112370             5  689.00  \n",
       "112371             5   13.99  \n",
       "\n",
       "[112372 rows x 4 columns]"
      ]
     },
     "execution_count": 1273,
     "metadata": {},
     "output_type": "execute_result"
    }
   ],
   "source": [
    "df_olist_custumer"
   ]
  },
  {
   "cell_type": "raw",
   "metadata": {},
   "source": [
    "Je vais grouper les commandes par 'customer_unique_id' selon les règle suivantes:\n",
    "-order_purchase_timestamp -> je prends la date la plus récente\n",
    "-review_score             -> je prends la dernière valeur\n",
    "-price                    -> je prends la somme\n",
    "\n",
    "Je créé une colonne fréquence qui indique le nombre de commandes pour le customer_unique_id"
   ]
  },
  {
   "cell_type": "code",
   "execution_count": 1274,
   "metadata": {},
   "outputs": [
    {
     "data": {
      "text/html": [
       "<div>\n",
       "<style scoped>\n",
       "    .dataframe tbody tr th:only-of-type {\n",
       "        vertical-align: middle;\n",
       "    }\n",
       "\n",
       "    .dataframe tbody tr th {\n",
       "        vertical-align: top;\n",
       "    }\n",
       "\n",
       "    .dataframe thead th {\n",
       "        text-align: right;\n",
       "    }\n",
       "</style>\n",
       "<table border=\"1\" class=\"dataframe\">\n",
       "  <thead>\n",
       "    <tr style=\"text-align: right;\">\n",
       "      <th></th>\n",
       "      <th>customer_unique_id</th>\n",
       "      <th>order_purchase_timestamp</th>\n",
       "      <th>review_score</th>\n",
       "      <th>price</th>\n",
       "    </tr>\n",
       "  </thead>\n",
       "  <tbody>\n",
       "    <tr>\n",
       "      <th>95705</th>\n",
       "      <td>b7d76e111c89f7ebf14761390f0f7d17</td>\n",
       "      <td>2016-09-04 21:15:19</td>\n",
       "      <td>1</td>\n",
       "      <td>39.99</td>\n",
       "    </tr>\n",
       "    <tr>\n",
       "      <th>95706</th>\n",
       "      <td>b7d76e111c89f7ebf14761390f0f7d17</td>\n",
       "      <td>2016-09-04 21:15:19</td>\n",
       "      <td>1</td>\n",
       "      <td>32.90</td>\n",
       "    </tr>\n",
       "    <tr>\n",
       "      <th>79698</th>\n",
       "      <td>4854e9b3feff728c13ee5fc7d1547e92</td>\n",
       "      <td>2016-09-05 00:15:34</td>\n",
       "      <td>1</td>\n",
       "      <td>59.50</td>\n",
       "    </tr>\n",
       "    <tr>\n",
       "      <th>23952</th>\n",
       "      <td>830d5b7aaa3b6f1e9ad63703bec97d23</td>\n",
       "      <td>2016-09-15 12:16:38</td>\n",
       "      <td>1</td>\n",
       "      <td>44.99</td>\n",
       "    </tr>\n",
       "    <tr>\n",
       "      <th>23951</th>\n",
       "      <td>830d5b7aaa3b6f1e9ad63703bec97d23</td>\n",
       "      <td>2016-09-15 12:16:38</td>\n",
       "      <td>1</td>\n",
       "      <td>44.99</td>\n",
       "    </tr>\n",
       "    <tr>\n",
       "      <th>...</th>\n",
       "      <td>...</td>\n",
       "      <td>...</td>\n",
       "      <td>...</td>\n",
       "      <td>...</td>\n",
       "    </tr>\n",
       "    <tr>\n",
       "      <th>95601</th>\n",
       "      <td>5c58de6fb80e93396e2f35642666b693</td>\n",
       "      <td>2018-08-29 14:18:23</td>\n",
       "      <td>5</td>\n",
       "      <td>209.00</td>\n",
       "    </tr>\n",
       "    <tr>\n",
       "      <th>558</th>\n",
       "      <td>7febafa06d9d8f232a900a2937f04338</td>\n",
       "      <td>2018-08-29 14:18:28</td>\n",
       "      <td>5</td>\n",
       "      <td>45.90</td>\n",
       "    </tr>\n",
       "    <tr>\n",
       "      <th>56358</th>\n",
       "      <td>b701bebbdf478f5500348f03aff62121</td>\n",
       "      <td>2018-08-29 14:52:00</td>\n",
       "      <td>3</td>\n",
       "      <td>24.90</td>\n",
       "    </tr>\n",
       "    <tr>\n",
       "      <th>75981</th>\n",
       "      <td>24ac2b4327e25baf39f2119e4228976a</td>\n",
       "      <td>2018-08-29 15:00:37</td>\n",
       "      <td>5</td>\n",
       "      <td>84.99</td>\n",
       "    </tr>\n",
       "    <tr>\n",
       "      <th>74878</th>\n",
       "      <td>ff22e30958c13ffe219db7d711e8f564</td>\n",
       "      <td>2018-09-03 09:06:57</td>\n",
       "      <td>1</td>\n",
       "      <td>145.00</td>\n",
       "    </tr>\n",
       "  </tbody>\n",
       "</table>\n",
       "<p>112372 rows × 4 columns</p>\n",
       "</div>"
      ],
      "text/plain": [
       "                     customer_unique_id order_purchase_timestamp  \\\n",
       "95705  b7d76e111c89f7ebf14761390f0f7d17      2016-09-04 21:15:19   \n",
       "95706  b7d76e111c89f7ebf14761390f0f7d17      2016-09-04 21:15:19   \n",
       "79698  4854e9b3feff728c13ee5fc7d1547e92      2016-09-05 00:15:34   \n",
       "23952  830d5b7aaa3b6f1e9ad63703bec97d23      2016-09-15 12:16:38   \n",
       "23951  830d5b7aaa3b6f1e9ad63703bec97d23      2016-09-15 12:16:38   \n",
       "...                                 ...                      ...   \n",
       "95601  5c58de6fb80e93396e2f35642666b693      2018-08-29 14:18:23   \n",
       "558    7febafa06d9d8f232a900a2937f04338      2018-08-29 14:18:28   \n",
       "56358  b701bebbdf478f5500348f03aff62121      2018-08-29 14:52:00   \n",
       "75981  24ac2b4327e25baf39f2119e4228976a      2018-08-29 15:00:37   \n",
       "74878  ff22e30958c13ffe219db7d711e8f564      2018-09-03 09:06:57   \n",
       "\n",
       "       review_score   price  \n",
       "95705             1   39.99  \n",
       "95706             1   32.90  \n",
       "79698             1   59.50  \n",
       "23952             1   44.99  \n",
       "23951             1   44.99  \n",
       "...             ...     ...  \n",
       "95601             5  209.00  \n",
       "558               5   45.90  \n",
       "56358             3   24.90  \n",
       "75981             5   84.99  \n",
       "74878             1  145.00  \n",
       "\n",
       "[112372 rows x 4 columns]"
      ]
     },
     "execution_count": 1274,
     "metadata": {},
     "output_type": "execute_result"
    }
   ],
   "source": [
    "df_olist_custumer_V2 = df_olist_custumer.sort_values(\n",
    "    by=['order_purchase_timestamp'], ascending=True).copy()\n",
    "df_olist_custumer_V2"
   ]
  },
  {
   "cell_type": "markdown",
   "metadata": {},
   "source": [
    "Je créé un dataframe pour les variables dont il faut récupérer la dernière valeur."
   ]
  },
  {
   "cell_type": "code",
   "execution_count": 1275,
   "metadata": {},
   "outputs": [
    {
     "data": {
      "text/html": [
       "<div>\n",
       "<style scoped>\n",
       "    .dataframe tbody tr th:only-of-type {\n",
       "        vertical-align: middle;\n",
       "    }\n",
       "\n",
       "    .dataframe tbody tr th {\n",
       "        vertical-align: top;\n",
       "    }\n",
       "\n",
       "    .dataframe thead th {\n",
       "        text-align: right;\n",
       "    }\n",
       "</style>\n",
       "<table border=\"1\" class=\"dataframe\">\n",
       "  <thead>\n",
       "    <tr style=\"text-align: right;\">\n",
       "      <th></th>\n",
       "      <th>customer_unique_id</th>\n",
       "      <th>order_purchase_timestamp</th>\n",
       "      <th>review_score</th>\n",
       "    </tr>\n",
       "  </thead>\n",
       "  <tbody>\n",
       "    <tr>\n",
       "      <th>95706</th>\n",
       "      <td>b7d76e111c89f7ebf14761390f0f7d17</td>\n",
       "      <td>2016-09-04 21:15:19</td>\n",
       "      <td>1</td>\n",
       "    </tr>\n",
       "    <tr>\n",
       "      <th>79698</th>\n",
       "      <td>4854e9b3feff728c13ee5fc7d1547e92</td>\n",
       "      <td>2016-09-05 00:15:34</td>\n",
       "      <td>1</td>\n",
       "    </tr>\n",
       "    <tr>\n",
       "      <th>23950</th>\n",
       "      <td>830d5b7aaa3b6f1e9ad63703bec97d23</td>\n",
       "      <td>2016-09-15 12:16:38</td>\n",
       "      <td>1</td>\n",
       "    </tr>\n",
       "    <tr>\n",
       "      <th>102051</th>\n",
       "      <td>0eb1ee9dba87f5b36b4613a65074337c</td>\n",
       "      <td>2016-10-02 22:07:52</td>\n",
       "      <td>1</td>\n",
       "    </tr>\n",
       "    <tr>\n",
       "      <th>62311</th>\n",
       "      <td>2f64e403852e6893ae37485d5fcacdaf</td>\n",
       "      <td>2016-10-03 16:56:50</td>\n",
       "      <td>4</td>\n",
       "    </tr>\n",
       "    <tr>\n",
       "      <th>...</th>\n",
       "      <td>...</td>\n",
       "      <td>...</td>\n",
       "      <td>...</td>\n",
       "    </tr>\n",
       "    <tr>\n",
       "      <th>95601</th>\n",
       "      <td>5c58de6fb80e93396e2f35642666b693</td>\n",
       "      <td>2018-08-29 14:18:23</td>\n",
       "      <td>5</td>\n",
       "    </tr>\n",
       "    <tr>\n",
       "      <th>558</th>\n",
       "      <td>7febafa06d9d8f232a900a2937f04338</td>\n",
       "      <td>2018-08-29 14:18:28</td>\n",
       "      <td>5</td>\n",
       "    </tr>\n",
       "    <tr>\n",
       "      <th>56358</th>\n",
       "      <td>b701bebbdf478f5500348f03aff62121</td>\n",
       "      <td>2018-08-29 14:52:00</td>\n",
       "      <td>3</td>\n",
       "    </tr>\n",
       "    <tr>\n",
       "      <th>75981</th>\n",
       "      <td>24ac2b4327e25baf39f2119e4228976a</td>\n",
       "      <td>2018-08-29 15:00:37</td>\n",
       "      <td>5</td>\n",
       "    </tr>\n",
       "    <tr>\n",
       "      <th>74878</th>\n",
       "      <td>ff22e30958c13ffe219db7d711e8f564</td>\n",
       "      <td>2018-09-03 09:06:57</td>\n",
       "      <td>1</td>\n",
       "    </tr>\n",
       "  </tbody>\n",
       "</table>\n",
       "<p>94721 rows × 3 columns</p>\n",
       "</div>"
      ],
      "text/plain": [
       "                      customer_unique_id order_purchase_timestamp  \\\n",
       "95706   b7d76e111c89f7ebf14761390f0f7d17      2016-09-04 21:15:19   \n",
       "79698   4854e9b3feff728c13ee5fc7d1547e92      2016-09-05 00:15:34   \n",
       "23950   830d5b7aaa3b6f1e9ad63703bec97d23      2016-09-15 12:16:38   \n",
       "102051  0eb1ee9dba87f5b36b4613a65074337c      2016-10-02 22:07:52   \n",
       "62311   2f64e403852e6893ae37485d5fcacdaf      2016-10-03 16:56:50   \n",
       "...                                  ...                      ...   \n",
       "95601   5c58de6fb80e93396e2f35642666b693      2018-08-29 14:18:23   \n",
       "558     7febafa06d9d8f232a900a2937f04338      2018-08-29 14:18:28   \n",
       "56358   b701bebbdf478f5500348f03aff62121      2018-08-29 14:52:00   \n",
       "75981   24ac2b4327e25baf39f2119e4228976a      2018-08-29 15:00:37   \n",
       "74878   ff22e30958c13ffe219db7d711e8f564      2018-09-03 09:06:57   \n",
       "\n",
       "        review_score  \n",
       "95706              1  \n",
       "79698              1  \n",
       "23950              1  \n",
       "102051             1  \n",
       "62311              4  \n",
       "...              ...  \n",
       "95601              5  \n",
       "558                5  \n",
       "56358              3  \n",
       "75981              5  \n",
       "74878              1  \n",
       "\n",
       "[94721 rows x 3 columns]"
      ]
     },
     "execution_count": 1275,
     "metadata": {},
     "output_type": "execute_result"
    }
   ],
   "source": [
    "df_part_1 = df_olist_custumer_V2[['customer_unique_id', 'order_purchase_timestamp',\n",
    "                                  'review_score']].drop_duplicates(subset='customer_unique_id', keep='last')\n",
    "df_part_1"
   ]
  },
  {
   "cell_type": "markdown",
   "metadata": {},
   "source": [
    "Je créé un dataframe pour les variables dont il faut récupérer la somme."
   ]
  },
  {
   "cell_type": "code",
   "execution_count": 1276,
   "metadata": {},
   "outputs": [
    {
     "data": {
      "text/html": [
       "<div>\n",
       "<style scoped>\n",
       "    .dataframe tbody tr th:only-of-type {\n",
       "        vertical-align: middle;\n",
       "    }\n",
       "\n",
       "    .dataframe tbody tr th {\n",
       "        vertical-align: top;\n",
       "    }\n",
       "\n",
       "    .dataframe thead th {\n",
       "        text-align: right;\n",
       "    }\n",
       "</style>\n",
       "<table border=\"1\" class=\"dataframe\">\n",
       "  <thead>\n",
       "    <tr style=\"text-align: right;\">\n",
       "      <th></th>\n",
       "      <th>price</th>\n",
       "    </tr>\n",
       "    <tr>\n",
       "      <th>customer_unique_id</th>\n",
       "      <th></th>\n",
       "    </tr>\n",
       "  </thead>\n",
       "  <tbody>\n",
       "    <tr>\n",
       "      <th>0000366f3b9a7992bf8c76cfdf3221e2</th>\n",
       "      <td>129.90</td>\n",
       "    </tr>\n",
       "    <tr>\n",
       "      <th>0000b849f77a49e4a4ce2b2a4ca5be3f</th>\n",
       "      <td>18.90</td>\n",
       "    </tr>\n",
       "    <tr>\n",
       "      <th>0000f46a3911fa3c0805444483337064</th>\n",
       "      <td>69.00</td>\n",
       "    </tr>\n",
       "    <tr>\n",
       "      <th>0000f6ccb0745a6a4b88665a16c9f078</th>\n",
       "      <td>25.99</td>\n",
       "    </tr>\n",
       "    <tr>\n",
       "      <th>0004aac84e0df4da2b147fca70cf8255</th>\n",
       "      <td>180.00</td>\n",
       "    </tr>\n",
       "    <tr>\n",
       "      <th>...</th>\n",
       "      <td>...</td>\n",
       "    </tr>\n",
       "    <tr>\n",
       "      <th>fffcf5a5ff07b0908bd4e2dbc735a684</th>\n",
       "      <td>1570.00</td>\n",
       "    </tr>\n",
       "    <tr>\n",
       "      <th>fffea47cd6d3cc0a88bd621562a9d061</th>\n",
       "      <td>64.89</td>\n",
       "    </tr>\n",
       "    <tr>\n",
       "      <th>ffff371b4d645b6ecea244b27531430a</th>\n",
       "      <td>89.90</td>\n",
       "    </tr>\n",
       "    <tr>\n",
       "      <th>ffff5962728ec6157033ef9805bacc48</th>\n",
       "      <td>115.00</td>\n",
       "    </tr>\n",
       "    <tr>\n",
       "      <th>ffffd2657e2aad2907e67c3e9daecbeb</th>\n",
       "      <td>56.99</td>\n",
       "    </tr>\n",
       "  </tbody>\n",
       "</table>\n",
       "<p>94721 rows × 1 columns</p>\n",
       "</div>"
      ],
      "text/plain": [
       "                                    price\n",
       "customer_unique_id                       \n",
       "0000366f3b9a7992bf8c76cfdf3221e2   129.90\n",
       "0000b849f77a49e4a4ce2b2a4ca5be3f    18.90\n",
       "0000f46a3911fa3c0805444483337064    69.00\n",
       "0000f6ccb0745a6a4b88665a16c9f078    25.99\n",
       "0004aac84e0df4da2b147fca70cf8255   180.00\n",
       "...                                   ...\n",
       "fffcf5a5ff07b0908bd4e2dbc735a684  1570.00\n",
       "fffea47cd6d3cc0a88bd621562a9d061    64.89\n",
       "ffff371b4d645b6ecea244b27531430a    89.90\n",
       "ffff5962728ec6157033ef9805bacc48   115.00\n",
       "ffffd2657e2aad2907e67c3e9daecbeb    56.99\n",
       "\n",
       "[94721 rows x 1 columns]"
      ]
     },
     "execution_count": 1276,
     "metadata": {},
     "output_type": "execute_result"
    }
   ],
   "source": [
    "df_part_2 = df_olist_custumer_V2[['customer_unique_id', 'price']].groupby(\n",
    "    'customer_unique_id').sum()\n",
    "df_part_2"
   ]
  },
  {
   "cell_type": "markdown",
   "metadata": {},
   "source": [
    "Je créé la variable fréquence."
   ]
  },
  {
   "cell_type": "code",
   "execution_count": 1277,
   "metadata": {},
   "outputs": [
    {
     "data": {
      "text/html": [
       "<div>\n",
       "<style scoped>\n",
       "    .dataframe tbody tr th:only-of-type {\n",
       "        vertical-align: middle;\n",
       "    }\n",
       "\n",
       "    .dataframe tbody tr th {\n",
       "        vertical-align: top;\n",
       "    }\n",
       "\n",
       "    .dataframe thead th {\n",
       "        text-align: right;\n",
       "    }\n",
       "</style>\n",
       "<table border=\"1\" class=\"dataframe\">\n",
       "  <thead>\n",
       "    <tr style=\"text-align: right;\">\n",
       "      <th></th>\n",
       "      <th>frequence</th>\n",
       "    </tr>\n",
       "    <tr>\n",
       "      <th>customer_unique_id</th>\n",
       "      <th></th>\n",
       "    </tr>\n",
       "  </thead>\n",
       "  <tbody>\n",
       "    <tr>\n",
       "      <th>0000366f3b9a7992bf8c76cfdf3221e2</th>\n",
       "      <td>1</td>\n",
       "    </tr>\n",
       "    <tr>\n",
       "      <th>0000b849f77a49e4a4ce2b2a4ca5be3f</th>\n",
       "      <td>1</td>\n",
       "    </tr>\n",
       "    <tr>\n",
       "      <th>0000f46a3911fa3c0805444483337064</th>\n",
       "      <td>1</td>\n",
       "    </tr>\n",
       "    <tr>\n",
       "      <th>0000f6ccb0745a6a4b88665a16c9f078</th>\n",
       "      <td>1</td>\n",
       "    </tr>\n",
       "    <tr>\n",
       "      <th>0004aac84e0df4da2b147fca70cf8255</th>\n",
       "      <td>1</td>\n",
       "    </tr>\n",
       "    <tr>\n",
       "      <th>...</th>\n",
       "      <td>...</td>\n",
       "    </tr>\n",
       "    <tr>\n",
       "      <th>fffcf5a5ff07b0908bd4e2dbc735a684</th>\n",
       "      <td>2</td>\n",
       "    </tr>\n",
       "    <tr>\n",
       "      <th>fffea47cd6d3cc0a88bd621562a9d061</th>\n",
       "      <td>1</td>\n",
       "    </tr>\n",
       "    <tr>\n",
       "      <th>ffff371b4d645b6ecea244b27531430a</th>\n",
       "      <td>1</td>\n",
       "    </tr>\n",
       "    <tr>\n",
       "      <th>ffff5962728ec6157033ef9805bacc48</th>\n",
       "      <td>1</td>\n",
       "    </tr>\n",
       "    <tr>\n",
       "      <th>ffffd2657e2aad2907e67c3e9daecbeb</th>\n",
       "      <td>1</td>\n",
       "    </tr>\n",
       "  </tbody>\n",
       "</table>\n",
       "<p>94721 rows × 1 columns</p>\n",
       "</div>"
      ],
      "text/plain": [
       "                                  frequence\n",
       "customer_unique_id                         \n",
       "0000366f3b9a7992bf8c76cfdf3221e2          1\n",
       "0000b849f77a49e4a4ce2b2a4ca5be3f          1\n",
       "0000f46a3911fa3c0805444483337064          1\n",
       "0000f6ccb0745a6a4b88665a16c9f078          1\n",
       "0004aac84e0df4da2b147fca70cf8255          1\n",
       "...                                     ...\n",
       "fffcf5a5ff07b0908bd4e2dbc735a684          2\n",
       "fffea47cd6d3cc0a88bd621562a9d061          1\n",
       "ffff371b4d645b6ecea244b27531430a          1\n",
       "ffff5962728ec6157033ef9805bacc48          1\n",
       "ffffd2657e2aad2907e67c3e9daecbeb          1\n",
       "\n",
       "[94721 rows x 1 columns]"
      ]
     },
     "execution_count": 1277,
     "metadata": {},
     "output_type": "execute_result"
    }
   ],
   "source": [
    "df_part_3 = df_olist_custumer_V2[[\n",
    "    'customer_unique_id', 'order_purchase_timestamp']].groupby('customer_unique_id').count()\n",
    "df_part_3['frequence'] = df_part_3['order_purchase_timestamp']\n",
    "df_part_3 = df_part_3[['frequence']]\n",
    "df_part_3"
   ]
  },
  {
   "cell_type": "markdown",
   "metadata": {},
   "source": [
    "Je créé le dataframe final e joinant les 3 dataframes créés:"
   ]
  },
  {
   "cell_type": "code",
   "execution_count": 1278,
   "metadata": {},
   "outputs": [
    {
     "data": {
      "text/html": [
       "<div>\n",
       "<style scoped>\n",
       "    .dataframe tbody tr th:only-of-type {\n",
       "        vertical-align: middle;\n",
       "    }\n",
       "\n",
       "    .dataframe tbody tr th {\n",
       "        vertical-align: top;\n",
       "    }\n",
       "\n",
       "    .dataframe thead th {\n",
       "        text-align: right;\n",
       "    }\n",
       "</style>\n",
       "<table border=\"1\" class=\"dataframe\">\n",
       "  <thead>\n",
       "    <tr style=\"text-align: right;\">\n",
       "      <th></th>\n",
       "      <th>customer_unique_id</th>\n",
       "      <th>order_purchase_timestamp</th>\n",
       "      <th>review_score</th>\n",
       "      <th>price</th>\n",
       "      <th>frequence</th>\n",
       "    </tr>\n",
       "  </thead>\n",
       "  <tbody>\n",
       "    <tr>\n",
       "      <th>0</th>\n",
       "      <td>b7d76e111c89f7ebf14761390f0f7d17</td>\n",
       "      <td>2016-09-04 21:15:19</td>\n",
       "      <td>1</td>\n",
       "      <td>72.89</td>\n",
       "      <td>2</td>\n",
       "    </tr>\n",
       "    <tr>\n",
       "      <th>1</th>\n",
       "      <td>4854e9b3feff728c13ee5fc7d1547e92</td>\n",
       "      <td>2016-09-05 00:15:34</td>\n",
       "      <td>1</td>\n",
       "      <td>59.50</td>\n",
       "      <td>1</td>\n",
       "    </tr>\n",
       "    <tr>\n",
       "      <th>2</th>\n",
       "      <td>830d5b7aaa3b6f1e9ad63703bec97d23</td>\n",
       "      <td>2016-09-15 12:16:38</td>\n",
       "      <td>1</td>\n",
       "      <td>134.97</td>\n",
       "      <td>3</td>\n",
       "    </tr>\n",
       "    <tr>\n",
       "      <th>3</th>\n",
       "      <td>0eb1ee9dba87f5b36b4613a65074337c</td>\n",
       "      <td>2016-10-02 22:07:52</td>\n",
       "      <td>1</td>\n",
       "      <td>100.00</td>\n",
       "      <td>1</td>\n",
       "    </tr>\n",
       "    <tr>\n",
       "      <th>4</th>\n",
       "      <td>2f64e403852e6893ae37485d5fcacdaf</td>\n",
       "      <td>2016-10-03 16:56:50</td>\n",
       "      <td>4</td>\n",
       "      <td>21.90</td>\n",
       "      <td>1</td>\n",
       "    </tr>\n",
       "    <tr>\n",
       "      <th>...</th>\n",
       "      <td>...</td>\n",
       "      <td>...</td>\n",
       "      <td>...</td>\n",
       "      <td>...</td>\n",
       "      <td>...</td>\n",
       "    </tr>\n",
       "    <tr>\n",
       "      <th>94716</th>\n",
       "      <td>5c58de6fb80e93396e2f35642666b693</td>\n",
       "      <td>2018-08-29 14:18:23</td>\n",
       "      <td>5</td>\n",
       "      <td>418.00</td>\n",
       "      <td>2</td>\n",
       "    </tr>\n",
       "    <tr>\n",
       "      <th>94717</th>\n",
       "      <td>7febafa06d9d8f232a900a2937f04338</td>\n",
       "      <td>2018-08-29 14:18:28</td>\n",
       "      <td>5</td>\n",
       "      <td>45.90</td>\n",
       "      <td>1</td>\n",
       "    </tr>\n",
       "    <tr>\n",
       "      <th>94718</th>\n",
       "      <td>b701bebbdf478f5500348f03aff62121</td>\n",
       "      <td>2018-08-29 14:52:00</td>\n",
       "      <td>3</td>\n",
       "      <td>24.90</td>\n",
       "      <td>1</td>\n",
       "    </tr>\n",
       "    <tr>\n",
       "      <th>94719</th>\n",
       "      <td>24ac2b4327e25baf39f2119e4228976a</td>\n",
       "      <td>2018-08-29 15:00:37</td>\n",
       "      <td>5</td>\n",
       "      <td>84.99</td>\n",
       "      <td>1</td>\n",
       "    </tr>\n",
       "    <tr>\n",
       "      <th>94720</th>\n",
       "      <td>ff22e30958c13ffe219db7d711e8f564</td>\n",
       "      <td>2018-09-03 09:06:57</td>\n",
       "      <td>1</td>\n",
       "      <td>290.00</td>\n",
       "      <td>2</td>\n",
       "    </tr>\n",
       "  </tbody>\n",
       "</table>\n",
       "<p>94721 rows × 5 columns</p>\n",
       "</div>"
      ],
      "text/plain": [
       "                     customer_unique_id order_purchase_timestamp  \\\n",
       "0      b7d76e111c89f7ebf14761390f0f7d17      2016-09-04 21:15:19   \n",
       "1      4854e9b3feff728c13ee5fc7d1547e92      2016-09-05 00:15:34   \n",
       "2      830d5b7aaa3b6f1e9ad63703bec97d23      2016-09-15 12:16:38   \n",
       "3      0eb1ee9dba87f5b36b4613a65074337c      2016-10-02 22:07:52   \n",
       "4      2f64e403852e6893ae37485d5fcacdaf      2016-10-03 16:56:50   \n",
       "...                                 ...                      ...   \n",
       "94716  5c58de6fb80e93396e2f35642666b693      2018-08-29 14:18:23   \n",
       "94717  7febafa06d9d8f232a900a2937f04338      2018-08-29 14:18:28   \n",
       "94718  b701bebbdf478f5500348f03aff62121      2018-08-29 14:52:00   \n",
       "94719  24ac2b4327e25baf39f2119e4228976a      2018-08-29 15:00:37   \n",
       "94720  ff22e30958c13ffe219db7d711e8f564      2018-09-03 09:06:57   \n",
       "\n",
       "       review_score   price  frequence  \n",
       "0                 1   72.89          2  \n",
       "1                 1   59.50          1  \n",
       "2                 1  134.97          3  \n",
       "3                 1  100.00          1  \n",
       "4                 4   21.90          1  \n",
       "...             ...     ...        ...  \n",
       "94716             5  418.00          2  \n",
       "94717             5   45.90          1  \n",
       "94718             3   24.90          1  \n",
       "94719             5   84.99          1  \n",
       "94720             1  290.00          2  \n",
       "\n",
       "[94721 rows x 5 columns]"
      ]
     },
     "execution_count": 1278,
     "metadata": {},
     "output_type": "execute_result"
    }
   ],
   "source": [
    "df_olist_custumer_V3 = pd.merge(df_part_1, df_part_2, on='customer_unique_id')\n",
    "df_olist_custumer_V3 = pd.merge(\n",
    "    df_olist_custumer_V3, df_part_3, on='customer_unique_id')\n",
    "df_olist_custumer_V3"
   ]
  },
  {
   "cell_type": "markdown",
   "metadata": {},
   "source": [
    "Je transforme la date de commande en nombre de jours écoulés depuis la 1ère commande enregistrée dans la BDD."
   ]
  },
  {
   "cell_type": "code",
   "execution_count": 1279,
   "metadata": {},
   "outputs": [],
   "source": [
    "date_reference = min(pd.to_datetime(\n",
    "    df_olist_orders_dataset['order_purchase_timestamp']))"
   ]
  },
  {
   "cell_type": "markdown",
   "metadata": {},
   "source": [
    "Je convertis 'order_purchase_timestamp' en type datetime"
   ]
  },
  {
   "cell_type": "code",
   "execution_count": 1280,
   "metadata": {},
   "outputs": [],
   "source": [
    "df_olist_custumer_V3['order_purchase_timestamp'] = pd.to_datetime(\n",
    "    df_olist_custumer_V3['order_purchase_timestamp'])"
   ]
  },
  {
   "cell_type": "markdown",
   "metadata": {},
   "source": [
    "Je remplace alors 'order_purchase_timestamp' par la différence : 'order_purchase_timestamp' -date_reference"
   ]
  },
  {
   "cell_type": "code",
   "execution_count": 1281,
   "metadata": {},
   "outputs": [],
   "source": [
    "df_olist_custumer_V3['order_purchase_timestamp'] = (\n",
    "    df_olist_custumer_V3['order_purchase_timestamp']-date_reference)/np.timedelta64(1, 'D')"
   ]
  },
  {
   "cell_type": "code",
   "execution_count": 1282,
   "metadata": {},
   "outputs": [
    {
     "data": {
      "text/html": [
       "<div>\n",
       "<style scoped>\n",
       "    .dataframe tbody tr th:only-of-type {\n",
       "        vertical-align: middle;\n",
       "    }\n",
       "\n",
       "    .dataframe tbody tr th {\n",
       "        vertical-align: top;\n",
       "    }\n",
       "\n",
       "    .dataframe thead th {\n",
       "        text-align: right;\n",
       "    }\n",
       "</style>\n",
       "<table border=\"1\" class=\"dataframe\">\n",
       "  <thead>\n",
       "    <tr style=\"text-align: right;\">\n",
       "      <th></th>\n",
       "      <th>customer_unique_id</th>\n",
       "      <th>order_purchase_timestamp</th>\n",
       "      <th>review_score</th>\n",
       "      <th>price</th>\n",
       "      <th>frequence</th>\n",
       "    </tr>\n",
       "  </thead>\n",
       "  <tbody>\n",
       "    <tr>\n",
       "      <th>0</th>\n",
       "      <td>b7d76e111c89f7ebf14761390f0f7d17</td>\n",
       "      <td>0.000000</td>\n",
       "      <td>1</td>\n",
       "      <td>72.89</td>\n",
       "      <td>2</td>\n",
       "    </tr>\n",
       "    <tr>\n",
       "      <th>1</th>\n",
       "      <td>4854e9b3feff728c13ee5fc7d1547e92</td>\n",
       "      <td>0.125174</td>\n",
       "      <td>1</td>\n",
       "      <td>59.50</td>\n",
       "      <td>1</td>\n",
       "    </tr>\n",
       "    <tr>\n",
       "      <th>2</th>\n",
       "      <td>830d5b7aaa3b6f1e9ad63703bec97d23</td>\n",
       "      <td>10.625914</td>\n",
       "      <td>1</td>\n",
       "      <td>134.97</td>\n",
       "      <td>3</td>\n",
       "    </tr>\n",
       "    <tr>\n",
       "      <th>3</th>\n",
       "      <td>0eb1ee9dba87f5b36b4613a65074337c</td>\n",
       "      <td>28.036493</td>\n",
       "      <td>1</td>\n",
       "      <td>100.00</td>\n",
       "      <td>1</td>\n",
       "    </tr>\n",
       "    <tr>\n",
       "      <th>4</th>\n",
       "      <td>2f64e403852e6893ae37485d5fcacdaf</td>\n",
       "      <td>28.820498</td>\n",
       "      <td>4</td>\n",
       "      <td>21.90</td>\n",
       "      <td>1</td>\n",
       "    </tr>\n",
       "    <tr>\n",
       "      <th>...</th>\n",
       "      <td>...</td>\n",
       "      <td>...</td>\n",
       "      <td>...</td>\n",
       "      <td>...</td>\n",
       "      <td>...</td>\n",
       "    </tr>\n",
       "    <tr>\n",
       "      <th>94716</th>\n",
       "      <td>5c58de6fb80e93396e2f35642666b693</td>\n",
       "      <td>723.710463</td>\n",
       "      <td>5</td>\n",
       "      <td>418.00</td>\n",
       "      <td>2</td>\n",
       "    </tr>\n",
       "    <tr>\n",
       "      <th>94717</th>\n",
       "      <td>7febafa06d9d8f232a900a2937f04338</td>\n",
       "      <td>723.710521</td>\n",
       "      <td>5</td>\n",
       "      <td>45.90</td>\n",
       "      <td>1</td>\n",
       "    </tr>\n",
       "    <tr>\n",
       "      <th>94718</th>\n",
       "      <td>b701bebbdf478f5500348f03aff62121</td>\n",
       "      <td>723.733808</td>\n",
       "      <td>3</td>\n",
       "      <td>24.90</td>\n",
       "      <td>1</td>\n",
       "    </tr>\n",
       "    <tr>\n",
       "      <th>94719</th>\n",
       "      <td>24ac2b4327e25baf39f2119e4228976a</td>\n",
       "      <td>723.739792</td>\n",
       "      <td>5</td>\n",
       "      <td>84.99</td>\n",
       "      <td>1</td>\n",
       "    </tr>\n",
       "    <tr>\n",
       "      <th>94720</th>\n",
       "      <td>ff22e30958c13ffe219db7d711e8f564</td>\n",
       "      <td>728.494190</td>\n",
       "      <td>1</td>\n",
       "      <td>290.00</td>\n",
       "      <td>2</td>\n",
       "    </tr>\n",
       "  </tbody>\n",
       "</table>\n",
       "<p>94721 rows × 5 columns</p>\n",
       "</div>"
      ],
      "text/plain": [
       "                     customer_unique_id  order_purchase_timestamp  \\\n",
       "0      b7d76e111c89f7ebf14761390f0f7d17                  0.000000   \n",
       "1      4854e9b3feff728c13ee5fc7d1547e92                  0.125174   \n",
       "2      830d5b7aaa3b6f1e9ad63703bec97d23                 10.625914   \n",
       "3      0eb1ee9dba87f5b36b4613a65074337c                 28.036493   \n",
       "4      2f64e403852e6893ae37485d5fcacdaf                 28.820498   \n",
       "...                                 ...                       ...   \n",
       "94716  5c58de6fb80e93396e2f35642666b693                723.710463   \n",
       "94717  7febafa06d9d8f232a900a2937f04338                723.710521   \n",
       "94718  b701bebbdf478f5500348f03aff62121                723.733808   \n",
       "94719  24ac2b4327e25baf39f2119e4228976a                723.739792   \n",
       "94720  ff22e30958c13ffe219db7d711e8f564                728.494190   \n",
       "\n",
       "       review_score   price  frequence  \n",
       "0                 1   72.89          2  \n",
       "1                 1   59.50          1  \n",
       "2                 1  134.97          3  \n",
       "3                 1  100.00          1  \n",
       "4                 4   21.90          1  \n",
       "...             ...     ...        ...  \n",
       "94716             5  418.00          2  \n",
       "94717             5   45.90          1  \n",
       "94718             3   24.90          1  \n",
       "94719             5   84.99          1  \n",
       "94720             1  290.00          2  \n",
       "\n",
       "[94721 rows x 5 columns]"
      ]
     },
     "execution_count": 1282,
     "metadata": {},
     "output_type": "execute_result"
    }
   ],
   "source": [
    "df_olist_custumer_V3"
   ]
  },
  {
   "cell_type": "markdown",
   "metadata": {},
   "source": [
    "J'étudie les variables une à une :"
   ]
  },
  {
   "cell_type": "markdown",
   "metadata": {},
   "source": [
    "Variable 'order_purchase_timestamp'"
   ]
  },
  {
   "cell_type": "code",
   "execution_count": 1283,
   "metadata": {},
   "outputs": [
    {
     "data": {
      "image/png": "[encoded data removed]",
      "text/plain": [
       "<Figure size 432x288 with 1 Axes>"
      ]
     },
     "metadata": {
      "needs_background": "light"
     },
     "output_type": "display_data"
    }
   ],
   "source": [
    "medianprops = {'color': \"black\"}\n",
    "meanprops = {'marker': 'o', 'markeredgecolor': 'black',\n",
    "             'markerfacecolor': 'firebrick'}\n",
    "df_olist_custumer_V3.boxplot(column=\"order_purchase_timestamp\", showfliers=True, medianprops=medianprops,\n",
    "                             vert=False, patch_artist=True, showmeans=True, meanprops=meanprops)\n",
    "plt.show()"
   ]
  },
  {
   "cell_type": "markdown",
   "metadata": {},
   "source": [
    "J'observe que quelques commandes se détachent au tout début des commandes."
   ]
  },
  {
   "cell_type": "code",
   "execution_count": 1284,
   "metadata": {},
   "outputs": [
    {
     "data": {
      "image/png": "[encoded data removed]",
      "text/plain": [
       "<Figure size 432x288 with 1 Axes>"
      ]
     },
     "metadata": {
      "needs_background": "light"
     },
     "output_type": "display_data"
    }
   ],
   "source": [
    "plt.hist(\n",
    "    df_olist_custumer_V3['order_purchase_timestamp'], 40, edgecolor='white')\n",
    "plt.show()"
   ]
  },
  {
   "cell_type": "markdown",
   "metadata": {},
   "source": [
    "Je retire les commandes dont le 'order_purchase_timestamp' est inférieur à 100"
   ]
  },
  {
   "cell_type": "code",
   "execution_count": 1285,
   "metadata": {},
   "outputs": [],
   "source": [
    "df_olist_custumer_V3 = df_olist_custumer_V3[df_olist_custumer_V3['order_purchase_timestamp'] > 100].copy(\n",
    ")"
   ]
  },
  {
   "cell_type": "markdown",
   "metadata": {},
   "source": [
    "Variable 'review_score'"
   ]
  },
  {
   "cell_type": "code",
   "execution_count": 1286,
   "metadata": {},
   "outputs": [
    {
     "data": {
      "image/png": "[encoded data removed]",
      "text/plain": [
       "<Figure size 432x288 with 1 Axes>"
      ]
     },
     "metadata": {
      "needs_background": "light"
     },
     "output_type": "display_data"
    }
   ],
   "source": [
    "df_olist_custumer_V3.boxplot(column=\"review_score\", showfliers=True, medianprops=medianprops,\n",
    "                             vert=False, patch_artist=True, showmeans=True, meanprops=meanprops)\n",
    "plt.show()"
   ]
  },
  {
   "cell_type": "markdown",
   "metadata": {},
   "source": [
    "Je ne remarque pas de valeurs aberrantes. (1-5)"
   ]
  },
  {
   "cell_type": "markdown",
   "metadata": {},
   "source": [
    "Variable 'price'"
   ]
  },
  {
   "cell_type": "code",
   "execution_count": 1287,
   "metadata": {},
   "outputs": [
    {
     "data": {
      "image/png": "[encoded data removed]",
      "text/plain": [
       "<Figure size 432x288 with 1 Axes>"
      ]
     },
     "metadata": {
      "needs_background": "light"
     },
     "output_type": "display_data"
    }
   ],
   "source": [
    "df_olist_custumer_V3.boxplot(column=\"price\", showfliers=False, medianprops=medianprops,\n",
    "                             vert=False, patch_artist=True, showmeans=True, meanprops=meanprops)\n",
    "plt.show()"
   ]
  },
  {
   "cell_type": "code",
   "execution_count": 1288,
   "metadata": {},
   "outputs": [
    {
     "data": {
      "image/png": "[encoded data removed]",
      "text/plain": [
       "<Figure size 432x288 with 1 Axes>"
      ]
     },
     "metadata": {
      "needs_background": "light"
     },
     "output_type": "display_data"
    }
   ],
   "source": [
    "df_olist_custumer_V3.boxplot(column=\"price\", showfliers=True, medianprops=medianprops,\n",
    "                             vert=False, patch_artist=True, showmeans=True, meanprops=meanprops)\n",
    "plt.show()"
   ]
  },
  {
   "cell_type": "code",
   "execution_count": 1289,
   "metadata": {},
   "outputs": [
    {
     "data": {
      "image/png": "[encoded data removed]",
      "text/plain": [
       "<Figure size 432x288 with 1 Axes>"
      ]
     },
     "metadata": {
      "needs_background": "light"
     },
     "output_type": "display_data"
    }
   ],
   "source": [
    "plt.hist(df_olist_custumer_V3['price'], 100, edgecolor='white')\n",
    "plt.show()"
   ]
  },
  {
   "cell_type": "code",
   "execution_count": 1290,
   "metadata": {},
   "outputs": [
    {
     "data": {
      "text/plain": [
       "979"
      ]
     },
     "execution_count": 1290,
     "metadata": {},
     "output_type": "execute_result"
    }
   ],
   "source": [
    "df_olist_custumer_V3[df_olist_custumer_V3['price'] > 1000].shape[0]"
   ]
  },
  {
   "cell_type": "markdown",
   "metadata": {},
   "source": [
    "Je décide de retirer les 979 clients ayant commandé plus de 1000 euros"
   ]
  },
  {
   "cell_type": "code",
   "execution_count": 1291,
   "metadata": {},
   "outputs": [],
   "source": [
    "df_olist_custumer_V3 = df_olist_custumer_V3[df_olist_custumer_V3['price'] <= 1000]"
   ]
  },
  {
   "cell_type": "markdown",
   "metadata": {},
   "source": [
    "Variable 'frequence'"
   ]
  },
  {
   "cell_type": "code",
   "execution_count": 1292,
   "metadata": {},
   "outputs": [
    {
     "data": {
      "image/png": "[encoded data removed]",
      "text/plain": [
       "<Figure size 432x288 with 1 Axes>"
      ]
     },
     "metadata": {
      "needs_background": "light"
     },
     "output_type": "display_data"
    }
   ],
   "source": [
    "df_olist_custumer_V3.boxplot(column=\"frequence\", showfliers=True, medianprops=medianprops,\n",
    "                             vert=False, patch_artist=True, showmeans=True, meanprops=meanprops)\n",
    "plt.show()"
   ]
  },
  {
   "cell_type": "code",
   "execution_count": 1293,
   "metadata": {},
   "outputs": [
    {
     "data": {
      "text/plain": [
       "12.35232428730417"
      ]
     },
     "execution_count": 1293,
     "metadata": {},
     "output_type": "execute_result"
    }
   ],
   "source": [
    "df_olist_custumer_V3[df_olist_custumer_V3['frequence']\n",
    "                     > 1].shape[0]*100/df_olist_custumer_V3.shape[0]"
   ]
  },
  {
   "cell_type": "markdown",
   "metadata": {},
   "source": [
    "Je remarque que peu de clients ont réalisés plusieurs commandes."
   ]
  },
  {
   "cell_type": "markdown",
   "metadata": {},
   "source": [
    "La variable 'order_purchase_timestamp' s'améliore quand elle décroit. Je préfère travailler avec une variable qui s'améliore en augmentant, j'inverse les valeurs pour cette variable."
   ]
  },
  {
   "cell_type": "code",
   "execution_count": 1294,
   "metadata": {},
   "outputs": [],
   "source": [
    "df_olist_custumer_V3['order_purchase_timestamp'] = max(\n",
    "    df_olist_custumer_V3['order_purchase_timestamp'])-df_olist_custumer_V3['order_purchase_timestamp']"
   ]
  },
  {
   "cell_type": "markdown",
   "metadata": {},
   "source": [
    "Je graphe les variables 2 à 2."
   ]
  },
  {
   "cell_type": "code",
   "execution_count": 1295,
   "metadata": {},
   "outputs": [
    {
     "data": {
      "text/plain": [
       "<seaborn.axisgrid.PairGrid at 0x7fdd9c059d60>"
      ]
     },
     "execution_count": 1295,
     "metadata": {},
     "output_type": "execute_result"
    },
    {
     "data": {
      "image/png": "[encoded data removed]",
      "text/plain": [
       "<Figure size 720x720 with 20 Axes>"
      ]
     },
     "metadata": {
      "needs_background": "light"
     },
     "output_type": "display_data"
    }
   ],
   "source": [
    "df_bivarie = df_olist_custumer_V3.drop(['customer_unique_id'], axis=1)\n",
    "sns.pairplot(df_bivarie, height=2.5)"
   ]
  },
  {
   "cell_type": "code",
   "execution_count": 1296,
   "metadata": {},
   "outputs": [],
   "source": [
    "# préparation des données pour l'ACP\n",
    "data = df_olist_custumer_V3[['price', 'frequence',\n",
    "                             'order_purchase_timestamp', 'review_score']]\n",
    "X = data.values\n",
    "features = data.columns\n",
    "\n",
    "# Centrage et Réduction\n",
    "std_scale = preprocessing.StandardScaler().fit(X)\n",
    "X_scaled = std_scale.transform(X)"
   ]
  },
  {
   "cell_type": "markdown",
   "metadata": {},
   "source": [
    "Je souhaite faire un dendrogramme mais comme j'ai plus de 90000 commandes, je commence par les regrouper en 100 clusters."
   ]
  },
  {
   "cell_type": "code",
   "execution_count": 1297,
   "metadata": {},
   "outputs": [],
   "source": [
    "# Clustering par K-means\n",
    "km = KMeans(n_clusters=100)\n",
    "km.fit(X_scaled)\n",
    "\n",
    "clusters_kmeans = range(100)\n",
    "centroids_after_kmeans = km.cluster_centers_"
   ]
  },
  {
   "cell_type": "markdown",
   "metadata": {},
   "source": [
    "Je graphe un dendrogramme sur ce cluster de 100."
   ]
  },
  {
   "cell_type": "code",
   "execution_count": 1298,
   "metadata": {},
   "outputs": [
    {
     "data": {
      "image/png": "[encoded data removed]",
      "text/plain": [
       "<Figure size 720x1800 with 1 Axes>"
      ]
     },
     "metadata": {
      "needs_background": "light"
     },
     "output_type": "display_data"
    }
   ],
   "source": [
    "# Clustering hiérarchique\n",
    "Z = linkage(centroids_after_kmeans, 'ward')\n",
    "\n",
    "# Affichage du dendrogramme\n",
    "plot_dendrogram(Z, names=clusters_kmeans)"
   ]
  },
  {
   "cell_type": "code",
   "execution_count": 1299,
   "metadata": {},
   "outputs": [
    {
     "data": {
      "text/plain": [
       "KMeans(n_clusters=3)"
      ]
     },
     "execution_count": 1299,
     "metadata": {},
     "output_type": "execute_result"
    }
   ],
   "source": [
    "# Nombre de clusters souhaités\n",
    "n_clust = 3\n",
    "\n",
    "# Clustering par K-means\n",
    "km = KMeans(n_clusters=n_clust)\n",
    "km.fit(X_scaled)"
   ]
  },
  {
   "cell_type": "code",
   "execution_count": 1300,
   "metadata": {},
   "outputs": [],
   "source": [
    "# Récupération des clusters attribués à chaque individu\n",
    "clusters = km.labels_\n",
    "\n",
    "# Affichage du clustering par projection des individus sur le premier plan factoriel\n",
    "n_comp = 4\n",
    "pca = decomposition.PCA(n_components=n_comp).fit(X_scaled)\n",
    "X_projected = pca.transform(X_scaled)"
   ]
  },
  {
   "cell_type": "code",
   "execution_count": 1301,
   "metadata": {
    "scrolled": false
   },
   "outputs": [
    {
     "data": {
      "image/png": "[encoded data removed]",
      "text/plain": [
       "<Figure size 432x288 with 1 Axes>"
      ]
     },
     "metadata": {
      "needs_background": "light"
     },
     "output_type": "display_data"
    },
    {
     "name": "stdout",
     "output_type": "stream",
     "text": [
      "0\n",
      "1\n",
      "2\n",
      "3\n"
     ]
    },
    {
     "data": {
      "image/png": "[encoded data removed]",
      "text/plain": [
       "<Figure size 504x432 with 1 Axes>"
      ]
     },
     "metadata": {
      "needs_background": "light"
     },
     "output_type": "display_data"
    },
    {
     "name": "stdout",
     "output_type": "stream",
     "text": [
      "0\n",
      "1\n",
      "2\n",
      "3\n"
     ]
    },
    {
     "data": {
      "image/png": "[encoded data removed]",
      "text/plain": [
       "<Figure size 504x432 with 1 Axes>"
      ]
     },
     "metadata": {
      "needs_background": "light"
     },
     "output_type": "display_data"
    },
    {
     "data": {
      "image/png": "[encoded data removed]",
      "text/plain": [
       "<Figure size 504x432 with 2 Axes>"
      ]
     },
     "metadata": {
      "needs_background": "light"
     },
     "output_type": "display_data"
    },
    {
     "data": {
      "image/png": "[encoded data removed]",
      "text/plain": [
       "<Figure size 504x432 with 2 Axes>"
      ]
     },
     "metadata": {
      "needs_background": "light"
     },
     "output_type": "display_data"
    }
   ],
   "source": [
    "# Eboulis des valeurs propres\n",
    "display_scree_plot(pca)\n",
    "\n",
    "# Cercle des corrélations\n",
    "pcs = pca.components_\n",
    "\n",
    "display_circles(pcs, n_comp, pca, [(0, 1), (2, 3)], labels=np.array(features))\n",
    "\n",
    "\n",
    "display_factorial_planes(X_projected, n_comp, pca, [(\n",
    "    0, 1), (2, 3)], illustrative_var=clusters, legend=\"Cluster\")\n",
    "\n",
    "plt.show()"
   ]
  },
  {
   "cell_type": "code",
   "execution_count": 1302,
   "metadata": {},
   "outputs": [],
   "source": [
    "df_olist_custumer_V3.to_csv('df_customer_ML.csv')"
   ]
  }
 ],
 "metadata": {
  "kernelspec": {
   "display_name": "Python 3",
   "language": "python",
   "name": "python3"
  },
  "language_info": {
   "codemirror_mode": {
    "name": "ipython",
    "version": 3
   },
   "file_extension": ".py",
   "mimetype": "text/x-python",
   "name": "python",
   "nbconvert_exporter": "python",
   "pygments_lexer": "ipython3",
   "version": "3.8.8"
  },
  "varInspector": {
   "cols": {
    "lenName": 16,
    "lenType": 16,
    "lenVar": 40
   },
   "kernels_config": {
    "python": {
     "delete_cmd_postfix": "",
     "delete_cmd_prefix": "del ",
     "library": "var_list.py",
     "varRefreshCmd": "print(var_dic_list())"
    },
    "r": {
     "delete_cmd_postfix": ") ",
     "delete_cmd_prefix": "rm(",
     "library": "var_list.r",
     "varRefreshCmd": "cat(var_dic_list()) "
    }
   },
   "types_to_exclude": [
    "module",
    "function",
    "builtin_function_or_method",
    "instance",
    "_Feature"
   ],
   "window_display": false
  }
 },
 "nbformat": 4,
 "nbformat_minor": 2
}
