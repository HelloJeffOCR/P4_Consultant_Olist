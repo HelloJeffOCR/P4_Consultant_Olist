{
 "cells": [
  {
   "cell_type": "code",
   "execution_count": 6,
   "id": "cdea968b",
   "metadata": {},
   "outputs": [],
   "source": [
    "import pandas as pd\n",
    "import matplotlib.pyplot as plt\n",
    "import matplotlib as mpl\n",
    "from mpl_toolkits.mplot3d import Axes3D\n",
    "\n",
    "import numpy as np\n",
    "import scipy.stats as st\n",
    "from sklearn import decomposition\n",
    "from sklearn import preprocessing\n",
    "import seaborn as sns\n",
    "from sklearn.cluster import KMeans, DBSCAN\n",
    "from scipy.cluster.hierarchy import linkage, fcluster\n",
    "from sklearn import manifold\n",
    "from sklearn import metrics\n",
    "from datetime import datetime\n",
    "import timeit\n",
    "import matplotlib.cm as cm\n",
    "from time import time\n",
    "import statistics\n",
    "from sklearn.model_selection import GridSearchCV\n",
    "from sklearn.neighbors import NearestNeighbors\n",
    "from kneed import KneeLocator\n",
    "from scipy.spatial.distance import cdist\n",
    "from datetime import date\n",
    "\n",
    "\n",
    "pd.set_option(\"display.max_columns\", 100)\n",
    "pd.set_option(\"display.max_rows\", 1000)"
   ]
  },
  {
   "cell_type": "markdown",
   "id": "1cead917",
   "metadata": {},
   "source": [
    "Fonction de traitement automatique des imports"
   ]
  },
  {
   "cell_type": "code",
   "execution_count": 7,
   "id": "34880aed",
   "metadata": {},
   "outputs": [],
   "source": [
    "def import_nettoyage_automatique(date_filtre):\n",
    "\n",
    "    # import des fichiers\n",
    "    df_olist_customers_dataset = pd.read_csv(\n",
    "        'olist_customers_dataset.csv', delimiter=',')\n",
    "    df_olist_order_items_dataset = pd.read_csv(\n",
    "        'olist_order_items_dataset.csv', delimiter=',')\n",
    "    df_olist_order_reviews_dataset = pd.read_csv(\n",
    "        'olist_order_reviews_dataset.csv', delimiter=',')\n",
    "    df_olist_orders_dataset = pd.read_csv(\n",
    "        'olist_orders_dataset.csv', delimiter=',')\n",
    "\n",
    "    # Conversion de 'order_purchase_timestamp' en datetime\n",
    "    df_olist_orders_dataset['order_purchase_timestamp'] = pd.to_datetime(\n",
    "        df_olist_orders_dataset['order_purchase_timestamp'])\n",
    "\n",
    "    # Conversion de 'date_filtre' en datetime\n",
    "    date_filtre = pd.to_datetime(date_filtre)\n",
    "\n",
    "    # Filtre pour ne conserver que les commandes égale ou antérieures à 'date_filtre'\n",
    "    df_olist_orders_dataset = df_olist_orders_dataset[\n",
    "        df_olist_orders_dataset['order_purchase_timestamp'] <= date_filtre]\n",
    "\n",
    "    # Jointure des fichiers clients et commandes\n",
    "    df_olist_custumer = df_olist_customers_dataset[['customer_id', 'customer_unique_id']].merge(\n",
    "        df_olist_orders_dataset[['order_id', 'customer_id', 'order_purchase_timestamp']], left_on='customer_id', right_on='customer_id')\n",
    "\n",
    "    # Jointure des fichiers clients et review\n",
    "    df_olist_custumer = df_olist_custumer.merge(df_olist_order_reviews_dataset[[\n",
    "                                                'order_id', 'review_score']], left_on='order_id', right_on='order_id')\n",
    "\n",
    "    # Jointure des fichiers clients et détails des commandes\n",
    "    df_olist_custumer = df_olist_custumer.merge(df_olist_order_items_dataset[[\n",
    "                                                'order_id', 'price']], left_on='order_id', right_on='order_id')\n",
    "\n",
    "    # Suppression des clefs de jointure inutiles\n",
    "    df_olist_custumer = df_olist_custumer.drop(\n",
    "        ['order_id', 'customer_id'], axis=1)\n",
    "\n",
    "    # Tri du fichier créé par customer_unique_id et par date croissante\n",
    "    df_olist_custumer_V2 = df_olist_custumer.sort_values(\n",
    "        by=['customer_unique_id', 'order_purchase_timestamp'], ascending=True).copy()\n",
    "\n",
    "    # Création du fichier consolidé par client\n",
    "\n",
    "    # Création d'un dataset avec 'customer_unique_id','order_purchase_timestamp','review_score' sans doublons sur 'customer_unique_id' en gardant le dernier enregistrement\n",
    "    df_part_1 = df_olist_custumer_V2[['customer_unique_id', 'order_purchase_timestamp',\n",
    "                                      'review_score']].drop_duplicates(subset='customer_unique_id', keep='last')\n",
    "\n",
    "    # Création d'un dataset groupé sur 'customer_unique_id' en sommant 'price'\n",
    "    df_part_2 = df_olist_custumer_V2[['customer_unique_id', 'price']].groupby(\n",
    "        'customer_unique_id').sum()\n",
    "\n",
    "    # Création d'un dataset groupé sur 'customer_unique_id' en comptant 'customer_unique_id'\n",
    "    df_part_3 = df_olist_custumer_V2[[\n",
    "        'customer_unique_id', 'order_purchase_timestamp']].groupby('customer_unique_id').count()\n",
    "    df_part_3['frequence'] = df_part_3['order_purchase_timestamp']\n",
    "    df_part_3 = df_part_3[['frequence']]\n",
    "\n",
    "    # Fusion des 3 datasets créés\n",
    "    df_olist_custumer_V3 = pd.merge(\n",
    "        df_part_1, df_part_2, on='customer_unique_id')\n",
    "    df_olist_custumer_V3 = pd.merge(\n",
    "        df_olist_custumer_V3, df_part_3, on='customer_unique_id')\n",
    "\n",
    "    # Conversion de la date de dernière command en nombres de jours depuis la première commande enregistrée\n",
    "    date_reference = min(pd.to_datetime(\n",
    "        df_olist_orders_dataset['order_purchase_timestamp']))\n",
    "    df_olist_custumer_V3['order_purchase_timestamp'] = (\n",
    "        df_olist_custumer_V3['order_purchase_timestamp']-date_reference)/np.timedelta64(1, 'D')\n",
    "\n",
    "    # Retrait des clients dont la dernière commande est trop ancinne (<100)\n",
    "    df_olist_custumer_V3 = df_olist_custumer_V3[df_olist_custumer_V3['order_purchase_timestamp'] > 100].copy(\n",
    "    )\n",
    "\n",
    "    # Retrait des commandes dont le montant des commandes est supérieur à 1000\n",
    "    df_olist_custumer_V3 = df_olist_custumer_V3[df_olist_custumer_V3['price'] <= 1000]\n",
    "\n",
    "    return df_olist_custumer_V3"
   ]
  },
  {
   "cell_type": "markdown",
   "id": "7b53833a",
   "metadata": {},
   "source": [
    "Navigation vers le dossier source"
   ]
  },
  {
   "cell_type": "code",
   "execution_count": 8,
   "id": "57cad762",
   "metadata": {},
   "outputs": [
    {
     "name": "stdout",
     "output_type": "stream",
     "text": [
      "[Errno 2] No such file or directory: 'Desktop/Formation_Ingenieur_Machine_Learning/P4_voelker_jean-florent'\n",
      "/Users/jfv/Desktop/Formation_Ingenieur_Machine_Learning/P4_voelker_jean-florent\n"
     ]
    }
   ],
   "source": [
    "cd Desktop/Formation_Ingenieur_Machine_Learning/P4_voelker_jean-florent"
   ]
  },
  {
   "cell_type": "markdown",
   "id": "e5b735e5",
   "metadata": {},
   "source": [
    "Chargement du fichier issu du nettoyage des données"
   ]
  },
  {
   "cell_type": "code",
   "execution_count": 9,
   "id": "75b2b632",
   "metadata": {},
   "outputs": [],
   "source": [
    "df_olist_customers_dataset = import_nettoyage_automatique(date.today())"
   ]
  },
  {
   "cell_type": "raw",
   "id": "0639819b",
   "metadata": {},
   "source": [
    "Je ne garde que les colonnes liées à :\n",
    "-Le montant total des commandes\n",
    "-le nombre de commandes\n",
    "-La date de la dernière commande"
   ]
  },
  {
   "cell_type": "code",
   "execution_count": 10,
   "id": "1a80cb8c",
   "metadata": {},
   "outputs": [],
   "source": [
    "data_complet_df = df_olist_customers_dataset[['price', 'frequence', 'order_purchase_timestamp']]"
   ]
  },
  {
   "cell_type": "markdown",
   "id": "52866074",
   "metadata": {},
   "source": [
    "Je réduis la taille du dataset à 5000 avec un Kmeans."
   ]
  },
  {
   "cell_type": "code",
   "execution_count": 105,
   "id": "ac8d1777",
   "metadata": {},
   "outputs": [],
   "source": [
    "n_clusters_init = 5000\n",
    "km_init = KMeans(n_clusters=n_clusters_init)\n",
    "km_init.fit(data_complet_df)\n",
    "data_reduced = km_init.cluster_centers_\n",
    "data_reduced_df = pd.DataFrame(data_reduced, columns=data_complet_df.columns)"
   ]
  },
  {
   "cell_type": "markdown",
   "id": "6e47cc22",
   "metadata": {},
   "source": [
    "D'après les résultats du clustering c'est un clustering par Kmeans sur une projection Isomap avec n_neighbors=22 qui donne le meilleur résultat."
   ]
  },
  {
   "cell_type": "code",
   "execution_count": 106,
   "id": "d25b7621",
   "metadata": {},
   "outputs": [],
   "source": [
    "# Je paramètre le nombre de composante à 2\n",
    "n_components = 2\n",
    "# Je paramètre le n_neighbors sur 24\n",
    "Isomap_n_neighbors = 24\n",
    "\n",
    "# Je créé le model de réduction de dimension\n",
    "Isomap = manifold.Isomap(n_neighbors=Isomap_n_neighbors,\n",
    "                         n_components=n_components, n_jobs=-1)"
   ]
  },
  {
   "cell_type": "markdown",
   "id": "00304e94",
   "metadata": {},
   "source": [
    "J'extrait la date de la dernière commande présente dans le fichier des commandes"
   ]
  },
  {
   "cell_type": "code",
   "execution_count": 107,
   "id": "46af66da",
   "metadata": {},
   "outputs": [],
   "source": [
    "date_finale = max(data_reduced_df['order_purchase_timestamp'])"
   ]
  },
  {
   "cell_type": "markdown",
   "id": "6fce7f44",
   "metadata": {},
   "source": [
    "Pour faire ma recherche d'intervalle de mise à jour, je vais créer un dataset T0 sans les données des 6 derniers mois que j'approxime à 180j (6x30)."
   ]
  },
  {
   "cell_type": "code",
   "execution_count": 108,
   "id": "9115bc83",
   "metadata": {},
   "outputs": [],
   "source": [
    "periode_de_recherche = 180\n",
    "data_Model_0_df = data_reduced_df[data_reduced_df['order_purchase_timestamp'] <= (\n",
    "    date_finale-periode_de_recherche)]"
   ]
  },
  {
   "cell_type": "markdown",
   "id": "14c3ebcd",
   "metadata": {},
   "source": [
    "Je centre et réduis les données data_Model_0."
   ]
  },
  {
   "cell_type": "code",
   "execution_count": 109,
   "id": "f99536bf",
   "metadata": {},
   "outputs": [],
   "source": [
    "data_Model_0 = data_Model_0_df.values\n",
    "std_scale_M_0 = preprocessing.StandardScaler().fit(data_Model_0)\n",
    "data_Model_0_scaled = std_scale_M_0.transform(data_Model_0)"
   ]
  },
  {
   "cell_type": "markdown",
   "id": "4964ab06",
   "metadata": {},
   "source": [
    "#Je projete les données standardisées selon la réduction de dimension  Isomap"
   ]
  },
  {
   "cell_type": "code",
   "execution_count": 110,
   "id": "4b603bf4",
   "metadata": {},
   "outputs": [],
   "source": [
    "data_Model_0_scaled_projected = Isomap.fit_transform(data_Model_0_scaled)"
   ]
  },
  {
   "cell_type": "markdown",
   "id": "c8c79f6a",
   "metadata": {},
   "source": [
    "J'entraîne un clustering Kmeans sur les données data_Model_0_scaled_projected"
   ]
  },
  {
   "cell_type": "code",
   "execution_count": 111,
   "id": "1d804204",
   "metadata": {},
   "outputs": [
    {
     "data": {
      "text/plain": [
       "KMeans(n_clusters=3)"
      ]
     },
     "execution_count": 111,
     "metadata": {},
     "output_type": "execute_result"
    }
   ],
   "source": [
    "Model_0 = KMeans(n_clusters=3)\n",
    "Model_0.fit(data_Model_0_scaled_projected)"
   ]
  },
  {
   "cell_type": "markdown",
   "id": "93d4ea85",
   "metadata": {},
   "source": [
    "Je vais calculer le clustering sur des données augmentées à intervalle de 7jours sur une période de 180jours en utilisant le Model_0 et le Model_i transfomé et fité sur les données disponibles à Ti. Pour chacun des couples de clusterings obtenus (Clustering_M_0 vs Clustering_M_i), je calcule l'Adjusted Rand Index."
   ]
  },
  {
   "cell_type": "code",
   "execution_count": 112,
   "id": "954a0559",
   "metadata": {
    "scrolled": true
   },
   "outputs": [],
   "source": [
    "# Initialisation des variables\n",
    "intervalle = 7\n",
    "nb_iterations = int(periode_de_recherche/intervalle)\n",
    "\n",
    "# Initialisation des dictionnaires pour le calcul de l'ARI\n",
    "ARI_T_i = []\n",
    "nb_jours = []\n",
    "\n",
    "# Boucle qui parcours la période de 6 mois selon nb_iterations\n",
    "for iteration in np.arange(0, nb_iterations+1):\n",
    "    # Calcul du datdaset à T_i\n",
    "    data_Model_T_i_df = data_reduced_df[data_reduced_df['order_purchase_timestamp'] <= (\n",
    "        date_finale-(periode_de_recherche-iteration*intervalle))]\n",
    "    data_Model_T_i = data_Model_T_i_df.values\n",
    "\n",
    "    # Standardisation des données à T_i selon Model_0\n",
    "    data_Model_T_i_M_0_scaled = std_scale_M_0.transform(data_Model_T_i)\n",
    "\n",
    "    # Projection Isomap des données à T_i standardisée selon std_scale_M_0\n",
    "    data_Model_T_i_M_0_scaled_projected = Isomap.fit_transform(\n",
    "        data_Model_T_i_M_0_scaled)\n",
    "\n",
    "    # Calcul du clustering selon le Model_0 sur les données à T_i\n",
    "    Clustering_Model_O_T_i = Model_0.predict(\n",
    "        data_Model_T_i_M_0_scaled_projected)\n",
    "\n",
    "    # Standardisation des données à T_i selon Model_i\n",
    "    std_scale_T_i = preprocessing.StandardScaler().fit(data_Model_T_i)\n",
    "    data_Model_T_i_M_i_scaled = std_scale_T_i.transform(data_Model_T_i)\n",
    "\n",
    "    # Projection Isomap des données à T_i standardisée selon std_scale_T_i\n",
    "    data_Model_T_i_M_i_scaled_projected = Isomap.fit_transform(\n",
    "        data_Model_T_i_M_i_scaled)\n",
    "\n",
    "    # Calcul du clustering selon le Model_T_i sur les données à T_i\n",
    "    Model_i = KMeans(n_clusters=4)\n",
    "    Model_i.fit(data_Model_T_i_M_i_scaled_projected)\n",
    "    Clustering_Model_i_T_i = Model_i.labels_\n",
    "\n",
    "    # Calcul de l'ARI\n",
    "    nb_jours.append(iteration*intervalle)\n",
    "    ARI_T_i.append(metrics.adjusted_rand_score(\n",
    "        Clustering_Model_O_T_i, Clustering_Model_i_T_i))"
   ]
  },
  {
   "cell_type": "markdown",
   "id": "6e06c725",
   "metadata": {},
   "source": [
    "Je récupère la durée en jours pendant laquelle l'ARI est supérieur à 0.8"
   ]
  },
  {
   "cell_type": "code",
   "execution_count": 113,
   "id": "265726ea",
   "metadata": {},
   "outputs": [],
   "source": [
    "filtered_ARI = list(filter(lambda ARI: ARI >= 0.8, ARI_T_i))\n",
    "jour_MAJ = nb_jours[len(filtered_ARI)-1]"
   ]
  },
  {
   "cell_type": "markdown",
   "id": "934245d5",
   "metadata": {},
   "source": [
    "Je graphe les scores ARI obtenus à chaque itération"
   ]
  },
  {
   "cell_type": "code",
   "execution_count": 114,
   "id": "2819510d",
   "metadata": {
    "scrolled": false
   },
   "outputs": [
    {
     "data": {
      "image/png": "[encoded data removed]",
      "text/plain": [
       "<Figure size 1152x648 with 1 Axes>"
      ]
     },
     "metadata": {
      "needs_background": "light"
     },
     "output_type": "display_data"
    }
   ],
   "source": [
    "plt.figure(figsize=(16, 9))\n",
    "plt.plot(nb_jours, ARI_T_i)\n",
    "plt.axhline(y=0.8, color=\"blue\", linestyle=\"--\", label='valeur limite ARI')\n",
    "plt.axvline(x=jour_MAJ, color=\"red\", linestyle=\"--\",\n",
    "            label='Mise à jour à {0} jours'.format(jour_MAJ))\n",
    "plt.xlabel(\"Itérations\")\n",
    "plt.ylabel(\"Indice de Rand ajusté\")\n",
    "plt.title(\n",
    "    \"Evolution de l'indice ARI en fonction du nombre de jours après une mise à jour\")\n",
    "\n",
    "plt.legend(loc=\"upper right\")\n",
    "plt.show()"
   ]
  },
  {
   "cell_type": "markdown",
   "id": "67049f91",
   "metadata": {},
   "source": [
    "La segmentation client est à réaliser tous les 49 jours (7 semaines)."
   ]
  },
  {
   "cell_type": "markdown",
   "id": "453c0450",
   "metadata": {},
   "source": [
    "Je recommence la simulation en ajustant ma période de recherche."
   ]
  },
  {
   "cell_type": "code",
   "execution_count": 115,
   "id": "9682f004",
   "metadata": {},
   "outputs": [],
   "source": [
    "periode_de_recherche = jour_MAJ\n",
    "data_Model_0_FS_df = data_reduced_df[data_reduced_df['order_purchase_timestamp'] < (\n",
    "    date_finale-periode_de_recherche)]"
   ]
  },
  {
   "cell_type": "markdown",
   "id": "9a917a8c",
   "metadata": {},
   "source": [
    "Je centre et réduis les données data_Model_0."
   ]
  },
  {
   "cell_type": "code",
   "execution_count": 116,
   "id": "b8a62adc",
   "metadata": {},
   "outputs": [],
   "source": [
    "data_Model_0_FS = data_Model_0_FS_df.values\n",
    "std_scale_M_0_FS = preprocessing.StandardScaler().fit(data_Model_0_FS)\n",
    "data_Model_0_FS_scaled = std_scale_M_0_FS.transform(data_Model_0_FS)"
   ]
  },
  {
   "cell_type": "markdown",
   "id": "105dd219",
   "metadata": {},
   "source": [
    "#Je projete les données standardisées selon la réduction de dimension  Isomap"
   ]
  },
  {
   "cell_type": "code",
   "execution_count": 117,
   "id": "756a47e9",
   "metadata": {},
   "outputs": [],
   "source": [
    "data_Model_0_FS_scaled_projected = Isomap.fit_transform(data_Model_0_FS_scaled)"
   ]
  },
  {
   "cell_type": "markdown",
   "id": "210b1edb",
   "metadata": {},
   "source": [
    "J'entraîne un clustering Kmeans sur les données data_Model_0_scaled_projected"
   ]
  },
  {
   "cell_type": "code",
   "execution_count": 118,
   "id": "29ad502a",
   "metadata": {},
   "outputs": [
    {
     "data": {
      "text/plain": [
       "KMeans(n_clusters=4)"
      ]
     },
     "execution_count": 118,
     "metadata": {},
     "output_type": "execute_result"
    }
   ],
   "source": [
    "Model_0_FS = KMeans(n_clusters=4)\n",
    "Model_0_FS.fit(data_Model_0_FS_scaled_projected)"
   ]
  },
  {
   "cell_type": "markdown",
   "id": "16fbd9e6",
   "metadata": {},
   "source": [
    "Je vais calculer le clustering sur des données augmentées à intervalle de 7jours sur une période de jour_MAJ jours en utilisant le Model_0 et le Model_i transfomé et fité sur les données disponibles à Ti. Pour chacun des couples de clusterings obtenus (Clustering_M_0 vs Clustering_M_i), je calcule l'Adjusted Rand Index."
   ]
  },
  {
   "cell_type": "code",
   "execution_count": 119,
   "id": "2a272706",
   "metadata": {
    "scrolled": true
   },
   "outputs": [],
   "source": [
    "# Initialisation des variables\n",
    "intervalle = 7\n",
    "nb_iterations = int(jour_MAJ/intervalle)\n",
    "periode_de_recherche = jour_MAJ\n",
    "\n",
    "# Initialisation des dictionnaires pour le calcul de l'ARI\n",
    "ARI_T_i = []\n",
    "nb_jours = []\n",
    "\n",
    "# Boucle qui parcours la période de 6 mois selon nb_iterations\n",
    "for iteration in np.arange(0, nb_iterations+1):\n",
    "    # Calcul du datdaset à T_i\n",
    "    data_Model_T_i_df = data_reduced_df[data_reduced_df['order_purchase_timestamp'] < (\n",
    "        date_finale-(periode_de_recherche-iteration*intervalle))]\n",
    "    data_Model_T_i = data_Model_T_i_df.values\n",
    "\n",
    "    # Standardisation des données à T_i selon Model_0\n",
    "    data_Model_T_i_M_0_scaled = std_scale_M_0_FS.transform(data_Model_T_i)\n",
    "\n",
    "    # Projection Isomap des données à T_i standardisée selon std_scale_M_0\n",
    "    data_Model_T_i_M_0_scaled_projected = Isomap.fit_transform(\n",
    "        data_Model_T_i_M_0_scaled)\n",
    "\n",
    "    # Standardisation des données à T_i selon Model_i\n",
    "    std_scale_T_i = preprocessing.StandardScaler().fit(data_Model_T_i)\n",
    "    data_Model_T_i_M_i_scaled = std_scale_T_i.transform(data_Model_T_i)\n",
    "\n",
    "    # Projection Isomap des données à T_i standardisée selon std_scale_T_i\n",
    "    data_Model_T_i_M_i_scaled_projected = Isomap.fit_transform(\n",
    "        data_Model_T_i_M_i_scaled)\n",
    "\n",
    "    # Calcul du clustering selon le Model_0 sur les données à T_i\n",
    "    Clustering_Model_O_T_i = Model_0_FS.predict(\n",
    "        data_Model_T_i_M_0_scaled_projected)\n",
    "\n",
    "    # Calcul du clustering selon le Model_T_i sur les données à T_i\n",
    "    Model_i = KMeans(n_clusters=4)\n",
    "    Model_i.fit(data_Model_T_i_M_i_scaled_projected)\n",
    "    Clustering_Model_i_T_i = Model_i.labels_\n",
    "\n",
    "    # Calcul de l'ARI\n",
    "    nb_jours.append(iteration*intervalle)\n",
    "    ARI_T_i.append(metrics.adjusted_rand_score(\n",
    "        Clustering_Model_O_T_i, Clustering_Model_i_T_i))"
   ]
  },
  {
   "cell_type": "markdown",
   "id": "9361a352",
   "metadata": {},
   "source": [
    "Je récupère la durée en jours pendant laquelle l'ARI est supérieur à 0.8"
   ]
  },
  {
   "cell_type": "code",
   "execution_count": 120,
   "id": "25c132f6",
   "metadata": {},
   "outputs": [],
   "source": [
    "filtered_ARI_FS = list(filter(lambda ARI: ARI >= 0.8, ARI_T_i))\n",
    "jour_MAJ_FS = nb_jours[len(filtered_ARI_FS)-1]"
   ]
  },
  {
   "cell_type": "markdown",
   "id": "e7a3f606",
   "metadata": {},
   "source": [
    "Je graphe les scores ARI obtenus à chaque itération"
   ]
  },
  {
   "cell_type": "code",
   "execution_count": 121,
   "id": "73493fc2",
   "metadata": {
    "scrolled": true
   },
   "outputs": [
    {
     "data": {
      "image/png": "[encoded data removed]",
      "text/plain": [
       "<Figure size 1152x648 with 1 Axes>"
      ]
     },
     "metadata": {
      "needs_background": "light"
     },
     "output_type": "display_data"
    }
   ],
   "source": [
    "plt.figure(figsize=(16, 9))\n",
    "plt.plot(nb_jours, ARI_T_i)\n",
    "plt.axhline(y=0.8, color=\"blue\", linestyle=\"--\", label='valeur limite ARI')\n",
    "plt.xlabel(\"Itérations\")\n",
    "plt.ylabel(\"Indice de Rand ajusté\")\n",
    "plt.title(\n",
    "    \"Evolution de l'indice ARI en fonction du nombre de jours après une mise à jour\")\n",
    "\n",
    "plt.legend(loc=\"upper right\")\n",
    "plt.show()"
   ]
  },
  {
   "cell_type": "markdown",
   "id": "9b49ec8a",
   "metadata": {},
   "source": [
    "Le graphique ci-dessus montre que l'ARI demeure juste au-dessus de 0.8 au bout de 70 jours."
   ]
  }
 ],
 "metadata": {
  "kernelspec": {
   "display_name": "Python 3",
   "language": "python",
   "name": "python3"
  },
  "language_info": {
   "codemirror_mode": {
    "name": "ipython",
    "version": 3
   },
   "file_extension": ".py",
   "mimetype": "text/x-python",
   "name": "python",
   "nbconvert_exporter": "python",
   "pygments_lexer": "ipython3",
   "version": "3.8.8"
  },
  "varInspector": {
   "cols": {
    "lenName": 16,
    "lenType": 16,
    "lenVar": 40
   },
   "kernels_config": {
    "python": {
     "delete_cmd_postfix": "",
     "delete_cmd_prefix": "del ",
     "library": "var_list.py",
     "varRefreshCmd": "print(var_dic_list())"
    },
    "r": {
     "delete_cmd_postfix": ") ",
     "delete_cmd_prefix": "rm(",
     "library": "var_list.r",
     "varRefreshCmd": "cat(var_dic_list()) "
    }
   },
   "types_to_exclude": [
    "module",
    "function",
    "builtin_function_or_method",
    "instance",
    "_Feature"
   ],
   "window_display": false
  }
 },
 "nbformat": 4,
 "nbformat_minor": 5
}
